{
 "cells": [
  {
   "cell_type": "code",
   "execution_count": 1,
   "id": "f19c0535-b724-441a-890c-d74e80f9cf9a",
   "metadata": {},
   "outputs": [],
   "source": [
    "#retrieve data"
   ]
  },
  {
   "cell_type": "code",
   "execution_count": 51,
   "id": "2aa7bba4-7fcb-41d0-b6dd-c38ae2c5667b",
   "metadata": {},
   "outputs": [],
   "source": [
    "import os\n",
    "import pandas as pd\n",
    "import scipy.stats as stats\n",
    "import matplotlib.pyplot as plt\n",
    "import seaborn as sns\n",
    "from pathlib import Path"
   ]
  },
  {
   "cell_type": "code",
   "execution_count": 53,
   "id": "2de58236-124d-4dd6-bcab-c7981fc2062d",
   "metadata": {},
   "outputs": [],
   "source": [
    "melb_data = Path (\"melb_data1.csv\")"
   ]
  },
  {
   "cell_type": "code",
   "execution_count": 55,
   "id": "778ef250-4aba-4042-918e-276b73421ef6",
   "metadata": {},
   "outputs": [
    {
     "data": {
      "text/html": [
       "<div>\n",
       "<style scoped>\n",
       "    .dataframe tbody tr th:only-of-type {\n",
       "        vertical-align: middle;\n",
       "    }\n",
       "\n",
       "    .dataframe tbody tr th {\n",
       "        vertical-align: top;\n",
       "    }\n",
       "\n",
       "    .dataframe thead th {\n",
       "        text-align: right;\n",
       "    }\n",
       "</style>\n",
       "<table border=\"1\" class=\"dataframe\">\n",
       "  <thead>\n",
       "    <tr style=\"text-align: right;\">\n",
       "      <th></th>\n",
       "      <th>Suburb</th>\n",
       "      <th>Address</th>\n",
       "      <th>Rooms</th>\n",
       "      <th>Type</th>\n",
       "      <th>Price</th>\n",
       "      <th>Method</th>\n",
       "      <th>SellerG</th>\n",
       "      <th>Date</th>\n",
       "      <th>Distance</th>\n",
       "      <th>Postcode</th>\n",
       "      <th>...</th>\n",
       "      <th>Bathroom</th>\n",
       "      <th>Car</th>\n",
       "      <th>Landsize</th>\n",
       "      <th>BuildingArea</th>\n",
       "      <th>YearBuilt</th>\n",
       "      <th>CouncilArea</th>\n",
       "      <th>Lattitude</th>\n",
       "      <th>Longtitude</th>\n",
       "      <th>Regionname</th>\n",
       "      <th>Propertycount</th>\n",
       "    </tr>\n",
       "  </thead>\n",
       "  <tbody>\n",
       "    <tr>\n",
       "      <th>0</th>\n",
       "      <td>Abbotsford</td>\n",
       "      <td>85 Turner St</td>\n",
       "      <td>2</td>\n",
       "      <td>h</td>\n",
       "      <td>1480000.0</td>\n",
       "      <td>S</td>\n",
       "      <td>Biggin</td>\n",
       "      <td>3/12/2016</td>\n",
       "      <td>2.5</td>\n",
       "      <td>3067.0</td>\n",
       "      <td>...</td>\n",
       "      <td>1.0</td>\n",
       "      <td>1.0</td>\n",
       "      <td>202.0</td>\n",
       "      <td>NaN</td>\n",
       "      <td>NaN</td>\n",
       "      <td>Yarra</td>\n",
       "      <td>-37.7996</td>\n",
       "      <td>144.9984</td>\n",
       "      <td>Northern Metropolitan</td>\n",
       "      <td>4019.0</td>\n",
       "    </tr>\n",
       "    <tr>\n",
       "      <th>1</th>\n",
       "      <td>Abbotsford</td>\n",
       "      <td>25 Bloomburg St</td>\n",
       "      <td>2</td>\n",
       "      <td>h</td>\n",
       "      <td>1035000.0</td>\n",
       "      <td>S</td>\n",
       "      <td>Biggin</td>\n",
       "      <td>4/02/2016</td>\n",
       "      <td>2.5</td>\n",
       "      <td>3067.0</td>\n",
       "      <td>...</td>\n",
       "      <td>1.0</td>\n",
       "      <td>0.0</td>\n",
       "      <td>156.0</td>\n",
       "      <td>79.0</td>\n",
       "      <td>1900.0</td>\n",
       "      <td>Yarra</td>\n",
       "      <td>-37.8079</td>\n",
       "      <td>144.9934</td>\n",
       "      <td>Northern Metropolitan</td>\n",
       "      <td>4019.0</td>\n",
       "    </tr>\n",
       "    <tr>\n",
       "      <th>2</th>\n",
       "      <td>Abbotsford</td>\n",
       "      <td>5 Charles St</td>\n",
       "      <td>3</td>\n",
       "      <td>h</td>\n",
       "      <td>1465000.0</td>\n",
       "      <td>SP</td>\n",
       "      <td>Biggin</td>\n",
       "      <td>4/03/2017</td>\n",
       "      <td>2.5</td>\n",
       "      <td>3067.0</td>\n",
       "      <td>...</td>\n",
       "      <td>2.0</td>\n",
       "      <td>0.0</td>\n",
       "      <td>134.0</td>\n",
       "      <td>150.0</td>\n",
       "      <td>1900.0</td>\n",
       "      <td>Yarra</td>\n",
       "      <td>-37.8093</td>\n",
       "      <td>144.9944</td>\n",
       "      <td>Northern Metropolitan</td>\n",
       "      <td>4019.0</td>\n",
       "    </tr>\n",
       "    <tr>\n",
       "      <th>3</th>\n",
       "      <td>Abbotsford</td>\n",
       "      <td>40 Federation La</td>\n",
       "      <td>3</td>\n",
       "      <td>h</td>\n",
       "      <td>850000.0</td>\n",
       "      <td>PI</td>\n",
       "      <td>Biggin</td>\n",
       "      <td>4/03/2017</td>\n",
       "      <td>2.5</td>\n",
       "      <td>3067.0</td>\n",
       "      <td>...</td>\n",
       "      <td>2.0</td>\n",
       "      <td>1.0</td>\n",
       "      <td>94.0</td>\n",
       "      <td>NaN</td>\n",
       "      <td>NaN</td>\n",
       "      <td>Yarra</td>\n",
       "      <td>-37.7969</td>\n",
       "      <td>144.9969</td>\n",
       "      <td>Northern Metropolitan</td>\n",
       "      <td>4019.0</td>\n",
       "    </tr>\n",
       "    <tr>\n",
       "      <th>4</th>\n",
       "      <td>Abbotsford</td>\n",
       "      <td>55a Park St</td>\n",
       "      <td>4</td>\n",
       "      <td>h</td>\n",
       "      <td>1600000.0</td>\n",
       "      <td>VB</td>\n",
       "      <td>Nelson</td>\n",
       "      <td>4/06/2016</td>\n",
       "      <td>2.5</td>\n",
       "      <td>3067.0</td>\n",
       "      <td>...</td>\n",
       "      <td>1.0</td>\n",
       "      <td>2.0</td>\n",
       "      <td>120.0</td>\n",
       "      <td>142.0</td>\n",
       "      <td>2014.0</td>\n",
       "      <td>Yarra</td>\n",
       "      <td>-37.8072</td>\n",
       "      <td>144.9941</td>\n",
       "      <td>Northern Metropolitan</td>\n",
       "      <td>4019.0</td>\n",
       "    </tr>\n",
       "  </tbody>\n",
       "</table>\n",
       "<p>5 rows × 21 columns</p>\n",
       "</div>"
      ],
      "text/plain": [
       "       Suburb           Address  Rooms Type      Price Method SellerG  \\\n",
       "0  Abbotsford      85 Turner St      2    h  1480000.0      S  Biggin   \n",
       "1  Abbotsford   25 Bloomburg St      2    h  1035000.0      S  Biggin   \n",
       "2  Abbotsford      5 Charles St      3    h  1465000.0     SP  Biggin   \n",
       "3  Abbotsford  40 Federation La      3    h   850000.0     PI  Biggin   \n",
       "4  Abbotsford       55a Park St      4    h  1600000.0     VB  Nelson   \n",
       "\n",
       "        Date  Distance  Postcode  ...  Bathroom  Car  Landsize  BuildingArea  \\\n",
       "0  3/12/2016       2.5    3067.0  ...       1.0  1.0     202.0           NaN   \n",
       "1  4/02/2016       2.5    3067.0  ...       1.0  0.0     156.0          79.0   \n",
       "2  4/03/2017       2.5    3067.0  ...       2.0  0.0     134.0         150.0   \n",
       "3  4/03/2017       2.5    3067.0  ...       2.0  1.0      94.0           NaN   \n",
       "4  4/06/2016       2.5    3067.0  ...       1.0  2.0     120.0         142.0   \n",
       "\n",
       "   YearBuilt  CouncilArea Lattitude  Longtitude             Regionname  \\\n",
       "0        NaN        Yarra  -37.7996    144.9984  Northern Metropolitan   \n",
       "1     1900.0        Yarra  -37.8079    144.9934  Northern Metropolitan   \n",
       "2     1900.0        Yarra  -37.8093    144.9944  Northern Metropolitan   \n",
       "3        NaN        Yarra  -37.7969    144.9969  Northern Metropolitan   \n",
       "4     2014.0        Yarra  -37.8072    144.9941  Northern Metropolitan   \n",
       "\n",
       "  Propertycount  \n",
       "0        4019.0  \n",
       "1        4019.0  \n",
       "2        4019.0  \n",
       "3        4019.0  \n",
       "4        4019.0  \n",
       "\n",
       "[5 rows x 21 columns]"
      ]
     },
     "execution_count": 55,
     "metadata": {},
     "output_type": "execute_result"
    }
   ],
   "source": [
    "melhousing_df = pd.read_csv(melb_data)\n",
    "melhousing_df.head()"
   ]
  },
  {
   "cell_type": "code",
   "execution_count": 57,
   "id": "11a947ac-3ca8-49ea-bc5e-9704226c6218",
   "metadata": {},
   "outputs": [],
   "source": [
    "#data cleaning"
   ]
  },
  {
   "cell_type": "code",
   "execution_count": 59,
   "id": "b8ba3943-ab73-4060-95aa-d66f29d155d1",
   "metadata": {},
   "outputs": [
    {
     "data": {
      "text/html": [
       "<div>\n",
       "<style scoped>\n",
       "    .dataframe tbody tr th:only-of-type {\n",
       "        vertical-align: middle;\n",
       "    }\n",
       "\n",
       "    .dataframe tbody tr th {\n",
       "        vertical-align: top;\n",
       "    }\n",
       "\n",
       "    .dataframe thead th {\n",
       "        text-align: right;\n",
       "    }\n",
       "</style>\n",
       "<table border=\"1\" class=\"dataframe\">\n",
       "  <thead>\n",
       "    <tr style=\"text-align: right;\">\n",
       "      <th></th>\n",
       "      <th>Suburb</th>\n",
       "      <th>Address</th>\n",
       "      <th>Rooms</th>\n",
       "      <th>Type</th>\n",
       "      <th>Price</th>\n",
       "      <th>Method</th>\n",
       "      <th>SellerG</th>\n",
       "      <th>Date</th>\n",
       "      <th>Distance</th>\n",
       "      <th>Postcode</th>\n",
       "      <th>...</th>\n",
       "      <th>Bathroom</th>\n",
       "      <th>Car</th>\n",
       "      <th>Landsize</th>\n",
       "      <th>BuildingArea</th>\n",
       "      <th>YearBuilt</th>\n",
       "      <th>CouncilArea</th>\n",
       "      <th>Lattitude</th>\n",
       "      <th>Longtitude</th>\n",
       "      <th>Regionname</th>\n",
       "      <th>Propertycount</th>\n",
       "    </tr>\n",
       "  </thead>\n",
       "  <tbody>\n",
       "    <tr>\n",
       "      <th>0</th>\n",
       "      <td>Abbotsford</td>\n",
       "      <td>85 Turner St</td>\n",
       "      <td>2</td>\n",
       "      <td>h</td>\n",
       "      <td>1480000.0</td>\n",
       "      <td>S</td>\n",
       "      <td>Biggin</td>\n",
       "      <td>3/12/2016</td>\n",
       "      <td>2.5</td>\n",
       "      <td>3067.0</td>\n",
       "      <td>...</td>\n",
       "      <td>1.0</td>\n",
       "      <td>1.0</td>\n",
       "      <td>202.0</td>\n",
       "      <td>NaN</td>\n",
       "      <td>NaN</td>\n",
       "      <td>Yarra</td>\n",
       "      <td>-37.7996</td>\n",
       "      <td>144.9984</td>\n",
       "      <td>Northern Metropolitan</td>\n",
       "      <td>4019.0</td>\n",
       "    </tr>\n",
       "    <tr>\n",
       "      <th>1</th>\n",
       "      <td>Abbotsford</td>\n",
       "      <td>25 Bloomburg St</td>\n",
       "      <td>2</td>\n",
       "      <td>h</td>\n",
       "      <td>1035000.0</td>\n",
       "      <td>S</td>\n",
       "      <td>Biggin</td>\n",
       "      <td>4/02/2016</td>\n",
       "      <td>2.5</td>\n",
       "      <td>3067.0</td>\n",
       "      <td>...</td>\n",
       "      <td>1.0</td>\n",
       "      <td>0.0</td>\n",
       "      <td>156.0</td>\n",
       "      <td>79.0</td>\n",
       "      <td>1900.0</td>\n",
       "      <td>Yarra</td>\n",
       "      <td>-37.8079</td>\n",
       "      <td>144.9934</td>\n",
       "      <td>Northern Metropolitan</td>\n",
       "      <td>4019.0</td>\n",
       "    </tr>\n",
       "    <tr>\n",
       "      <th>2</th>\n",
       "      <td>Abbotsford</td>\n",
       "      <td>5 Charles St</td>\n",
       "      <td>3</td>\n",
       "      <td>h</td>\n",
       "      <td>1465000.0</td>\n",
       "      <td>SP</td>\n",
       "      <td>Biggin</td>\n",
       "      <td>4/03/2017</td>\n",
       "      <td>2.5</td>\n",
       "      <td>3067.0</td>\n",
       "      <td>...</td>\n",
       "      <td>2.0</td>\n",
       "      <td>0.0</td>\n",
       "      <td>134.0</td>\n",
       "      <td>150.0</td>\n",
       "      <td>1900.0</td>\n",
       "      <td>Yarra</td>\n",
       "      <td>-37.8093</td>\n",
       "      <td>144.9944</td>\n",
       "      <td>Northern Metropolitan</td>\n",
       "      <td>4019.0</td>\n",
       "    </tr>\n",
       "    <tr>\n",
       "      <th>3</th>\n",
       "      <td>Abbotsford</td>\n",
       "      <td>40 Federation La</td>\n",
       "      <td>3</td>\n",
       "      <td>h</td>\n",
       "      <td>850000.0</td>\n",
       "      <td>PI</td>\n",
       "      <td>Biggin</td>\n",
       "      <td>4/03/2017</td>\n",
       "      <td>2.5</td>\n",
       "      <td>3067.0</td>\n",
       "      <td>...</td>\n",
       "      <td>2.0</td>\n",
       "      <td>1.0</td>\n",
       "      <td>94.0</td>\n",
       "      <td>NaN</td>\n",
       "      <td>NaN</td>\n",
       "      <td>Yarra</td>\n",
       "      <td>-37.7969</td>\n",
       "      <td>144.9969</td>\n",
       "      <td>Northern Metropolitan</td>\n",
       "      <td>4019.0</td>\n",
       "    </tr>\n",
       "    <tr>\n",
       "      <th>4</th>\n",
       "      <td>Abbotsford</td>\n",
       "      <td>55a Park St</td>\n",
       "      <td>4</td>\n",
       "      <td>h</td>\n",
       "      <td>1600000.0</td>\n",
       "      <td>VB</td>\n",
       "      <td>Nelson</td>\n",
       "      <td>4/06/2016</td>\n",
       "      <td>2.5</td>\n",
       "      <td>3067.0</td>\n",
       "      <td>...</td>\n",
       "      <td>1.0</td>\n",
       "      <td>2.0</td>\n",
       "      <td>120.0</td>\n",
       "      <td>142.0</td>\n",
       "      <td>2014.0</td>\n",
       "      <td>Yarra</td>\n",
       "      <td>-37.8072</td>\n",
       "      <td>144.9941</td>\n",
       "      <td>Northern Metropolitan</td>\n",
       "      <td>4019.0</td>\n",
       "    </tr>\n",
       "  </tbody>\n",
       "</table>\n",
       "<p>5 rows × 21 columns</p>\n",
       "</div>"
      ],
      "text/plain": [
       "       Suburb           Address  Rooms Type      Price Method SellerG  \\\n",
       "0  Abbotsford      85 Turner St      2    h  1480000.0      S  Biggin   \n",
       "1  Abbotsford   25 Bloomburg St      2    h  1035000.0      S  Biggin   \n",
       "2  Abbotsford      5 Charles St      3    h  1465000.0     SP  Biggin   \n",
       "3  Abbotsford  40 Federation La      3    h   850000.0     PI  Biggin   \n",
       "4  Abbotsford       55a Park St      4    h  1600000.0     VB  Nelson   \n",
       "\n",
       "        Date  Distance  Postcode  ...  Bathroom  Car  Landsize  BuildingArea  \\\n",
       "0  3/12/2016       2.5    3067.0  ...       1.0  1.0     202.0           NaN   \n",
       "1  4/02/2016       2.5    3067.0  ...       1.0  0.0     156.0          79.0   \n",
       "2  4/03/2017       2.5    3067.0  ...       2.0  0.0     134.0         150.0   \n",
       "3  4/03/2017       2.5    3067.0  ...       2.0  1.0      94.0           NaN   \n",
       "4  4/06/2016       2.5    3067.0  ...       1.0  2.0     120.0         142.0   \n",
       "\n",
       "   YearBuilt  CouncilArea Lattitude  Longtitude             Regionname  \\\n",
       "0        NaN        Yarra  -37.7996    144.9984  Northern Metropolitan   \n",
       "1     1900.0        Yarra  -37.8079    144.9934  Northern Metropolitan   \n",
       "2     1900.0        Yarra  -37.8093    144.9944  Northern Metropolitan   \n",
       "3        NaN        Yarra  -37.7969    144.9969  Northern Metropolitan   \n",
       "4     2014.0        Yarra  -37.8072    144.9941  Northern Metropolitan   \n",
       "\n",
       "  Propertycount  \n",
       "0        4019.0  \n",
       "1        4019.0  \n",
       "2        4019.0  \n",
       "3        4019.0  \n",
       "4        4019.0  \n",
       "\n",
       "[5 rows x 21 columns]"
      ]
     },
     "execution_count": 59,
     "metadata": {},
     "output_type": "execute_result"
    }
   ],
   "source": [
    "melhousing_df.head()"
   ]
  },
  {
   "cell_type": "code",
   "execution_count": 61,
   "id": "fb283238-d3ae-4951-a562-c61eeb1fd100",
   "metadata": {},
   "outputs": [
    {
     "data": {
      "text/plain": [
       "Suburb            object\n",
       "Address           object\n",
       "Rooms              int64\n",
       "Type              object\n",
       "Price            float64\n",
       "Method            object\n",
       "SellerG           object\n",
       "Date              object\n",
       "Distance         float64\n",
       "Postcode         float64\n",
       "Bedroom2         float64\n",
       "Bathroom         float64\n",
       "Car              float64\n",
       "Landsize         float64\n",
       "BuildingArea     float64\n",
       "YearBuilt        float64\n",
       "CouncilArea       object\n",
       "Lattitude        float64\n",
       "Longtitude       float64\n",
       "Regionname        object\n",
       "Propertycount    float64\n",
       "dtype: object"
      ]
     },
     "execution_count": 61,
     "metadata": {},
     "output_type": "execute_result"
    }
   ],
   "source": [
    "melhousing_df.dtypes"
   ]
  },
  {
   "cell_type": "code",
   "execution_count": 63,
   "id": "b10a6de4-8114-4a49-8051-ff1192c4d0e0",
   "metadata": {},
   "outputs": [
    {
     "data": {
      "text/plain": [
       "<bound method DataFrame.info of               Suburb           Address  Rooms Type      Price Method  \\\n",
       "0         Abbotsford      85 Turner St      2    h  1480000.0      S   \n",
       "1         Abbotsford   25 Bloomburg St      2    h  1035000.0      S   \n",
       "2         Abbotsford      5 Charles St      3    h  1465000.0     SP   \n",
       "3         Abbotsford  40 Federation La      3    h   850000.0     PI   \n",
       "4         Abbotsford       55a Park St      4    h  1600000.0     VB   \n",
       "...              ...               ...    ...  ...        ...    ...   \n",
       "13575  Wheelers Hill      12 Strada Cr      4    h  1245000.0      S   \n",
       "13576   Williamstown     77 Merrett Dr      3    h  1031000.0     SP   \n",
       "13577   Williamstown       83 Power St      3    h  1170000.0      S   \n",
       "13578   Williamstown      96 Verdon St      4    h  2500000.0     PI   \n",
       "13579     Yarraville        6 Agnes St      4    h  1285000.0     SP   \n",
       "\n",
       "        SellerG        Date  Distance  Postcode  ...  Bathroom  Car  Landsize  \\\n",
       "0        Biggin   3/12/2016       2.5    3067.0  ...       1.0  1.0     202.0   \n",
       "1        Biggin   4/02/2016       2.5    3067.0  ...       1.0  0.0     156.0   \n",
       "2        Biggin   4/03/2017       2.5    3067.0  ...       2.0  0.0     134.0   \n",
       "3        Biggin   4/03/2017       2.5    3067.0  ...       2.0  1.0      94.0   \n",
       "4        Nelson   4/06/2016       2.5    3067.0  ...       1.0  2.0     120.0   \n",
       "...         ...         ...       ...       ...  ...       ...  ...       ...   \n",
       "13575     Barry  26/08/2017      16.7    3150.0  ...       2.0  2.0     652.0   \n",
       "13576  Williams  26/08/2017       6.8    3016.0  ...       2.0  2.0     333.0   \n",
       "13577     Raine  26/08/2017       6.8    3016.0  ...       2.0  4.0     436.0   \n",
       "13578   Sweeney  26/08/2017       6.8    3016.0  ...       1.0  5.0     866.0   \n",
       "13579   Village  26/08/2017       6.3    3013.0  ...       1.0  1.0     362.0   \n",
       "\n",
       "       BuildingArea  YearBuilt  CouncilArea Lattitude  Longtitude  \\\n",
       "0               NaN        NaN        Yarra -37.79960   144.99840   \n",
       "1              79.0     1900.0        Yarra -37.80790   144.99340   \n",
       "2             150.0     1900.0        Yarra -37.80930   144.99440   \n",
       "3               NaN        NaN        Yarra -37.79690   144.99690   \n",
       "4             142.0     2014.0        Yarra -37.80720   144.99410   \n",
       "...             ...        ...          ...       ...         ...   \n",
       "13575           NaN     1981.0          NaN -37.90562   145.16761   \n",
       "13576         133.0     1995.0          NaN -37.85927   144.87904   \n",
       "13577           NaN     1997.0          NaN -37.85274   144.88738   \n",
       "13578         157.0     1920.0          NaN -37.85908   144.89299   \n",
       "13579         112.0     1920.0          NaN -37.81188   144.88449   \n",
       "\n",
       "                       Regionname Propertycount  \n",
       "0           Northern Metropolitan        4019.0  \n",
       "1           Northern Metropolitan        4019.0  \n",
       "2           Northern Metropolitan        4019.0  \n",
       "3           Northern Metropolitan        4019.0  \n",
       "4           Northern Metropolitan        4019.0  \n",
       "...                           ...           ...  \n",
       "13575  South-Eastern Metropolitan        7392.0  \n",
       "13576        Western Metropolitan        6380.0  \n",
       "13577        Western Metropolitan        6380.0  \n",
       "13578        Western Metropolitan        6380.0  \n",
       "13579        Western Metropolitan        6543.0  \n",
       "\n",
       "[13580 rows x 21 columns]>"
      ]
     },
     "execution_count": 63,
     "metadata": {},
     "output_type": "execute_result"
    }
   ],
   "source": [
    "melhousing_df.info"
   ]
  },
  {
   "cell_type": "code",
   "execution_count": 65,
   "id": "e4a90d42-c81c-404e-9f3a-a0df0fcecb24",
   "metadata": {},
   "outputs": [
    {
     "data": {
      "text/plain": [
       "<bound method NDFrame.describe of               Suburb           Address  Rooms Type      Price Method  \\\n",
       "0         Abbotsford      85 Turner St      2    h  1480000.0      S   \n",
       "1         Abbotsford   25 Bloomburg St      2    h  1035000.0      S   \n",
       "2         Abbotsford      5 Charles St      3    h  1465000.0     SP   \n",
       "3         Abbotsford  40 Federation La      3    h   850000.0     PI   \n",
       "4         Abbotsford       55a Park St      4    h  1600000.0     VB   \n",
       "...              ...               ...    ...  ...        ...    ...   \n",
       "13575  Wheelers Hill      12 Strada Cr      4    h  1245000.0      S   \n",
       "13576   Williamstown     77 Merrett Dr      3    h  1031000.0     SP   \n",
       "13577   Williamstown       83 Power St      3    h  1170000.0      S   \n",
       "13578   Williamstown      96 Verdon St      4    h  2500000.0     PI   \n",
       "13579     Yarraville        6 Agnes St      4    h  1285000.0     SP   \n",
       "\n",
       "        SellerG        Date  Distance  Postcode  ...  Bathroom  Car  Landsize  \\\n",
       "0        Biggin   3/12/2016       2.5    3067.0  ...       1.0  1.0     202.0   \n",
       "1        Biggin   4/02/2016       2.5    3067.0  ...       1.0  0.0     156.0   \n",
       "2        Biggin   4/03/2017       2.5    3067.0  ...       2.0  0.0     134.0   \n",
       "3        Biggin   4/03/2017       2.5    3067.0  ...       2.0  1.0      94.0   \n",
       "4        Nelson   4/06/2016       2.5    3067.0  ...       1.0  2.0     120.0   \n",
       "...         ...         ...       ...       ...  ...       ...  ...       ...   \n",
       "13575     Barry  26/08/2017      16.7    3150.0  ...       2.0  2.0     652.0   \n",
       "13576  Williams  26/08/2017       6.8    3016.0  ...       2.0  2.0     333.0   \n",
       "13577     Raine  26/08/2017       6.8    3016.0  ...       2.0  4.0     436.0   \n",
       "13578   Sweeney  26/08/2017       6.8    3016.0  ...       1.0  5.0     866.0   \n",
       "13579   Village  26/08/2017       6.3    3013.0  ...       1.0  1.0     362.0   \n",
       "\n",
       "       BuildingArea  YearBuilt  CouncilArea Lattitude  Longtitude  \\\n",
       "0               NaN        NaN        Yarra -37.79960   144.99840   \n",
       "1              79.0     1900.0        Yarra -37.80790   144.99340   \n",
       "2             150.0     1900.0        Yarra -37.80930   144.99440   \n",
       "3               NaN        NaN        Yarra -37.79690   144.99690   \n",
       "4             142.0     2014.0        Yarra -37.80720   144.99410   \n",
       "...             ...        ...          ...       ...         ...   \n",
       "13575           NaN     1981.0          NaN -37.90562   145.16761   \n",
       "13576         133.0     1995.0          NaN -37.85927   144.87904   \n",
       "13577           NaN     1997.0          NaN -37.85274   144.88738   \n",
       "13578         157.0     1920.0          NaN -37.85908   144.89299   \n",
       "13579         112.0     1920.0          NaN -37.81188   144.88449   \n",
       "\n",
       "                       Regionname Propertycount  \n",
       "0           Northern Metropolitan        4019.0  \n",
       "1           Northern Metropolitan        4019.0  \n",
       "2           Northern Metropolitan        4019.0  \n",
       "3           Northern Metropolitan        4019.0  \n",
       "4           Northern Metropolitan        4019.0  \n",
       "...                           ...           ...  \n",
       "13575  South-Eastern Metropolitan        7392.0  \n",
       "13576        Western Metropolitan        6380.0  \n",
       "13577        Western Metropolitan        6380.0  \n",
       "13578        Western Metropolitan        6380.0  \n",
       "13579        Western Metropolitan        6543.0  \n",
       "\n",
       "[13580 rows x 21 columns]>"
      ]
     },
     "execution_count": 65,
     "metadata": {},
     "output_type": "execute_result"
    }
   ],
   "source": [
    "melhousing_df.describe"
   ]
  },
  {
   "cell_type": "code",
   "execution_count": 67,
   "id": "7ed8ff9b-8fa5-4aad-9970-f353de5d78e9",
   "metadata": {},
   "outputs": [
    {
     "data": {
      "text/plain": [
       "Suburb           13580\n",
       "Address          13580\n",
       "Rooms            13580\n",
       "Type             13580\n",
       "Price            13580\n",
       "Method           13580\n",
       "SellerG          13580\n",
       "Date             13580\n",
       "Distance         13580\n",
       "Postcode         13580\n",
       "Bedroom2         13580\n",
       "Bathroom         13580\n",
       "Car              13518\n",
       "Landsize         13580\n",
       "BuildingArea      7130\n",
       "YearBuilt         8205\n",
       "CouncilArea      12211\n",
       "Lattitude        13580\n",
       "Longtitude       13580\n",
       "Regionname       13580\n",
       "Propertycount    13580\n",
       "dtype: int64"
      ]
     },
     "execution_count": 67,
     "metadata": {},
     "output_type": "execute_result"
    }
   ],
   "source": [
    "melhousing_df.count()"
   ]
  },
  {
   "cell_type": "code",
   "execution_count": 69,
   "id": "c1bc03e9-c466-4dd7-b1b8-f7176b350b95",
   "metadata": {},
   "outputs": [
    {
     "data": {
      "text/plain": [
       "Suburb           13580\n",
       "Address          13580\n",
       "Rooms            13580\n",
       "Type             13580\n",
       "Price            13580\n",
       "Method           13580\n",
       "SellerG          13580\n",
       "Date             13580\n",
       "Distance         13580\n",
       "Postcode         13580\n",
       "Bedroom2         13580\n",
       "Bathroom         13580\n",
       "Car              13518\n",
       "Landsize         13580\n",
       "CouncilArea      12211\n",
       "Lattitude        13580\n",
       "Longtitude       13580\n",
       "Regionname       13580\n",
       "Propertycount    13580\n",
       "dtype: int64"
      ]
     },
     "execution_count": 69,
     "metadata": {},
     "output_type": "execute_result"
    }
   ],
   "source": [
    "melhousingclean_df = melhousing_df.drop([\"BuildingArea\",\"YearBuilt\"],axis=1)\n",
    "melhousingclean_df.count()"
   ]
  },
  {
   "cell_type": "code",
   "execution_count": 71,
   "id": "aa61d15b-4b54-45c8-aec9-37d51e6e0ad1",
   "metadata": {},
   "outputs": [
    {
     "name": "stderr",
     "output_type": "stream",
     "text": [
      "/var/folders/df/dwj7lm7s3vzgwfn_gv80jsqw0000gn/T/ipykernel_13378/1487905485.py:1: FutureWarning: DataFrame.fillna with 'method' is deprecated and will raise in a future version. Use obj.ffill() or obj.bfill() instead.\n",
      "  melhousingclean_df[['CouncilArea', 'Car']] = melhousingclean_df[['CouncilArea', 'Car']].fillna(method='ffill')\n"
     ]
    }
   ],
   "source": [
    "melhousingclean_df[['CouncilArea', 'Car']] = melhousingclean_df[['CouncilArea', 'Car']].fillna(method='ffill')"
   ]
  },
  {
   "cell_type": "code",
   "execution_count": 73,
   "id": "ece8606f-2efe-44a6-85d2-b52d07fdbc85",
   "metadata": {},
   "outputs": [
    {
     "name": "stdout",
     "output_type": "stream",
     "text": [
      "Index(['Suburb', 'Address', 'Rooms', 'Type', 'Price', 'Method', 'SellerG',\n",
      "       'Date', 'Distance', 'Postcode', 'Bedroom2', 'Bathroom', 'Car',\n",
      "       'Landsize', 'BuildingArea', 'YearBuilt', 'CouncilArea', 'Lattitude',\n",
      "       'Longtitude', 'Regionname', 'Propertycount'],\n",
      "      dtype='object')\n"
     ]
    }
   ],
   "source": [
    "print(melhousing_df.columns)"
   ]
  },
  {
   "cell_type": "code",
   "execution_count": 75,
   "id": "cb6a6b8c-84c9-4932-b9fd-554abe142e53",
   "metadata": {},
   "outputs": [
    {
     "data": {
      "text/plain": [
       "Suburb           13580\n",
       "Address          13580\n",
       "Rooms            13580\n",
       "Type             13580\n",
       "Price            13580\n",
       "Method           13580\n",
       "SellerG          13580\n",
       "Date             13580\n",
       "Distance         13580\n",
       "Postcode         13580\n",
       "Bedroom2         13580\n",
       "Bathroom         13580\n",
       "Car              13580\n",
       "Landsize         13580\n",
       "CouncilArea      13580\n",
       "Lattitude        13580\n",
       "Longtitude       13580\n",
       "Regionname       13580\n",
       "Propertycount    13580\n",
       "dtype: int64"
      ]
     },
     "execution_count": 75,
     "metadata": {},
     "output_type": "execute_result"
    }
   ],
   "source": [
    "melhousingclean_df.count()"
   ]
  },
  {
   "cell_type": "code",
   "execution_count": 77,
   "id": "f63d3bd3-ede5-4152-92b8-92eb8963bf61",
   "metadata": {},
   "outputs": [
    {
     "data": {
      "text/plain": [
       "0         3/12/2016\n",
       "1         4/02/2016\n",
       "2         4/03/2017\n",
       "3         4/03/2017\n",
       "4         4/06/2016\n",
       "            ...    \n",
       "13575    26/08/2017\n",
       "13576    26/08/2017\n",
       "13577    26/08/2017\n",
       "13578    26/08/2017\n",
       "13579    26/08/2017\n",
       "Name: Date, Length: 13580, dtype: object"
      ]
     },
     "execution_count": 77,
     "metadata": {},
     "output_type": "execute_result"
    }
   ],
   "source": [
    "melhousingclean_df['Date']"
   ]
  },
  {
   "cell_type": "code",
   "execution_count": 79,
   "id": "c7de0b78-77ae-4b7c-a775-78b22a3ecb67",
   "metadata": {},
   "outputs": [
    {
     "name": "stdout",
     "output_type": "stream",
     "text": [
      "datetime64[ns]\n"
     ]
    }
   ],
   "source": [
    "melhousingclean_df['Date'] = pd.to_datetime(melhousingclean_df['Date'], dayfirst=True)\n",
    "print(melhousingclean_df['Date'].dtype)"
   ]
  },
  {
   "cell_type": "code",
   "execution_count": 81,
   "id": "fcbfe41d-1f2b-4224-8851-4b0ed31ae099",
   "metadata": {},
   "outputs": [
    {
     "name": "stdout",
     "output_type": "stream",
     "text": [
      "0        12-03-2016\n",
      "1        02-04-2016\n",
      "2        03-04-2017\n",
      "3        03-04-2017\n",
      "4        06-04-2016\n",
      "            ...    \n",
      "13575    08-26-2017\n",
      "13576    08-26-2017\n",
      "13577    08-26-2017\n",
      "13578    08-26-2017\n",
      "13579    08-26-2017\n",
      "Name: FormattedDate, Length: 13580, dtype: object\n"
     ]
    }
   ],
   "source": [
    "melhousingclean_df['FormattedDate'] = melhousingclean_df['Date'].dt.strftime('%m-%d-%Y')\n",
    "print(melhousingclean_df['FormattedDate'])"
   ]
  },
  {
   "cell_type": "code",
   "execution_count": 83,
   "id": "b6e410c3-bfa3-4931-9d3c-b38ef9ebaf21",
   "metadata": {},
   "outputs": [
    {
     "data": {
      "text/plain": [
       "Suburb           13580\n",
       "Address          13580\n",
       "Rooms            13580\n",
       "Type             13580\n",
       "Price            13580\n",
       "Method           13580\n",
       "SellerG          13580\n",
       "Date             13580\n",
       "Distance         13580\n",
       "Postcode         13580\n",
       "Bedroom2         13580\n",
       "Bathroom         13580\n",
       "Car              13580\n",
       "Landsize         13580\n",
       "CouncilArea      13580\n",
       "Lattitude        13580\n",
       "Longtitude       13580\n",
       "Regionname       13580\n",
       "Propertycount    13580\n",
       "FormattedDate    13580\n",
       "dtype: int64"
      ]
     },
     "execution_count": 83,
     "metadata": {},
     "output_type": "execute_result"
    }
   ],
   "source": [
    "melhousingclean_df.count()"
   ]
  },
  {
   "cell_type": "code",
   "execution_count": 85,
   "id": "1c43f0b4-428c-4bbb-b8b0-d89b1d707ef2",
   "metadata": {},
   "outputs": [
    {
     "data": {
      "text/html": [
       "<div>\n",
       "<style scoped>\n",
       "    .dataframe tbody tr th:only-of-type {\n",
       "        vertical-align: middle;\n",
       "    }\n",
       "\n",
       "    .dataframe tbody tr th {\n",
       "        vertical-align: top;\n",
       "    }\n",
       "\n",
       "    .dataframe thead th {\n",
       "        text-align: right;\n",
       "    }\n",
       "</style>\n",
       "<table border=\"1\" class=\"dataframe\">\n",
       "  <thead>\n",
       "    <tr style=\"text-align: right;\">\n",
       "      <th></th>\n",
       "      <th>Suburb</th>\n",
       "      <th>Address</th>\n",
       "      <th>Rooms</th>\n",
       "      <th>Type</th>\n",
       "      <th>Price</th>\n",
       "      <th>Method</th>\n",
       "      <th>SellerG</th>\n",
       "      <th>Date</th>\n",
       "      <th>Distance</th>\n",
       "      <th>Postcode</th>\n",
       "      <th>Bedroom2</th>\n",
       "      <th>Bathroom</th>\n",
       "      <th>Car</th>\n",
       "      <th>Landsize</th>\n",
       "      <th>CouncilArea</th>\n",
       "      <th>Lattitude</th>\n",
       "      <th>Longtitude</th>\n",
       "      <th>Regionname</th>\n",
       "      <th>Propertycount</th>\n",
       "      <th>FormattedDate</th>\n",
       "    </tr>\n",
       "  </thead>\n",
       "  <tbody>\n",
       "    <tr>\n",
       "      <th>0</th>\n",
       "      <td>Abbotsford</td>\n",
       "      <td>85 Turner St</td>\n",
       "      <td>2</td>\n",
       "      <td>h</td>\n",
       "      <td>1480000.0</td>\n",
       "      <td>S</td>\n",
       "      <td>Biggin</td>\n",
       "      <td>2016-12-03</td>\n",
       "      <td>2.5</td>\n",
       "      <td>3067.0</td>\n",
       "      <td>2.0</td>\n",
       "      <td>1.0</td>\n",
       "      <td>1.0</td>\n",
       "      <td>202.0</td>\n",
       "      <td>Yarra</td>\n",
       "      <td>-37.7996</td>\n",
       "      <td>144.9984</td>\n",
       "      <td>Northern Metropolitan</td>\n",
       "      <td>4019.0</td>\n",
       "      <td>12-03-2016</td>\n",
       "    </tr>\n",
       "    <tr>\n",
       "      <th>1</th>\n",
       "      <td>Abbotsford</td>\n",
       "      <td>25 Bloomburg St</td>\n",
       "      <td>2</td>\n",
       "      <td>h</td>\n",
       "      <td>1035000.0</td>\n",
       "      <td>S</td>\n",
       "      <td>Biggin</td>\n",
       "      <td>2016-02-04</td>\n",
       "      <td>2.5</td>\n",
       "      <td>3067.0</td>\n",
       "      <td>2.0</td>\n",
       "      <td>1.0</td>\n",
       "      <td>0.0</td>\n",
       "      <td>156.0</td>\n",
       "      <td>Yarra</td>\n",
       "      <td>-37.8079</td>\n",
       "      <td>144.9934</td>\n",
       "      <td>Northern Metropolitan</td>\n",
       "      <td>4019.0</td>\n",
       "      <td>02-04-2016</td>\n",
       "    </tr>\n",
       "    <tr>\n",
       "      <th>2</th>\n",
       "      <td>Abbotsford</td>\n",
       "      <td>5 Charles St</td>\n",
       "      <td>3</td>\n",
       "      <td>h</td>\n",
       "      <td>1465000.0</td>\n",
       "      <td>SP</td>\n",
       "      <td>Biggin</td>\n",
       "      <td>2017-03-04</td>\n",
       "      <td>2.5</td>\n",
       "      <td>3067.0</td>\n",
       "      <td>3.0</td>\n",
       "      <td>2.0</td>\n",
       "      <td>0.0</td>\n",
       "      <td>134.0</td>\n",
       "      <td>Yarra</td>\n",
       "      <td>-37.8093</td>\n",
       "      <td>144.9944</td>\n",
       "      <td>Northern Metropolitan</td>\n",
       "      <td>4019.0</td>\n",
       "      <td>03-04-2017</td>\n",
       "    </tr>\n",
       "    <tr>\n",
       "      <th>3</th>\n",
       "      <td>Abbotsford</td>\n",
       "      <td>40 Federation La</td>\n",
       "      <td>3</td>\n",
       "      <td>h</td>\n",
       "      <td>850000.0</td>\n",
       "      <td>PI</td>\n",
       "      <td>Biggin</td>\n",
       "      <td>2017-03-04</td>\n",
       "      <td>2.5</td>\n",
       "      <td>3067.0</td>\n",
       "      <td>3.0</td>\n",
       "      <td>2.0</td>\n",
       "      <td>1.0</td>\n",
       "      <td>94.0</td>\n",
       "      <td>Yarra</td>\n",
       "      <td>-37.7969</td>\n",
       "      <td>144.9969</td>\n",
       "      <td>Northern Metropolitan</td>\n",
       "      <td>4019.0</td>\n",
       "      <td>03-04-2017</td>\n",
       "    </tr>\n",
       "    <tr>\n",
       "      <th>4</th>\n",
       "      <td>Abbotsford</td>\n",
       "      <td>55a Park St</td>\n",
       "      <td>4</td>\n",
       "      <td>h</td>\n",
       "      <td>1600000.0</td>\n",
       "      <td>VB</td>\n",
       "      <td>Nelson</td>\n",
       "      <td>2016-06-04</td>\n",
       "      <td>2.5</td>\n",
       "      <td>3067.0</td>\n",
       "      <td>3.0</td>\n",
       "      <td>1.0</td>\n",
       "      <td>2.0</td>\n",
       "      <td>120.0</td>\n",
       "      <td>Yarra</td>\n",
       "      <td>-37.8072</td>\n",
       "      <td>144.9941</td>\n",
       "      <td>Northern Metropolitan</td>\n",
       "      <td>4019.0</td>\n",
       "      <td>06-04-2016</td>\n",
       "    </tr>\n",
       "  </tbody>\n",
       "</table>\n",
       "</div>"
      ],
      "text/plain": [
       "       Suburb           Address  Rooms Type      Price Method SellerG  \\\n",
       "0  Abbotsford      85 Turner St      2    h  1480000.0      S  Biggin   \n",
       "1  Abbotsford   25 Bloomburg St      2    h  1035000.0      S  Biggin   \n",
       "2  Abbotsford      5 Charles St      3    h  1465000.0     SP  Biggin   \n",
       "3  Abbotsford  40 Federation La      3    h   850000.0     PI  Biggin   \n",
       "4  Abbotsford       55a Park St      4    h  1600000.0     VB  Nelson   \n",
       "\n",
       "        Date  Distance  Postcode  Bedroom2  Bathroom  Car  Landsize  \\\n",
       "0 2016-12-03       2.5    3067.0       2.0       1.0  1.0     202.0   \n",
       "1 2016-02-04       2.5    3067.0       2.0       1.0  0.0     156.0   \n",
       "2 2017-03-04       2.5    3067.0       3.0       2.0  0.0     134.0   \n",
       "3 2017-03-04       2.5    3067.0       3.0       2.0  1.0      94.0   \n",
       "4 2016-06-04       2.5    3067.0       3.0       1.0  2.0     120.0   \n",
       "\n",
       "  CouncilArea  Lattitude  Longtitude             Regionname  Propertycount  \\\n",
       "0       Yarra   -37.7996    144.9984  Northern Metropolitan         4019.0   \n",
       "1       Yarra   -37.8079    144.9934  Northern Metropolitan         4019.0   \n",
       "2       Yarra   -37.8093    144.9944  Northern Metropolitan         4019.0   \n",
       "3       Yarra   -37.7969    144.9969  Northern Metropolitan         4019.0   \n",
       "4       Yarra   -37.8072    144.9941  Northern Metropolitan         4019.0   \n",
       "\n",
       "  FormattedDate  \n",
       "0    12-03-2016  \n",
       "1    02-04-2016  \n",
       "2    03-04-2017  \n",
       "3    03-04-2017  \n",
       "4    06-04-2016  "
      ]
     },
     "execution_count": 85,
     "metadata": {},
     "output_type": "execute_result"
    }
   ],
   "source": [
    "melhousingclean_df.head()"
   ]
  },
  {
   "cell_type": "code",
   "execution_count": 87,
   "id": "373d083b-56b5-4fcd-b6c4-e5b7b26a92e3",
   "metadata": {},
   "outputs": [],
   "source": [
    "del melhousingclean_df['Date']"
   ]
  },
  {
   "cell_type": "code",
   "execution_count": 89,
   "id": "6a8736d9-6cb5-4ba5-98cd-fa01b91a7c07",
   "metadata": {},
   "outputs": [
    {
     "data": {
      "text/html": [
       "<div>\n",
       "<style scoped>\n",
       "    .dataframe tbody tr th:only-of-type {\n",
       "        vertical-align: middle;\n",
       "    }\n",
       "\n",
       "    .dataframe tbody tr th {\n",
       "        vertical-align: top;\n",
       "    }\n",
       "\n",
       "    .dataframe thead th {\n",
       "        text-align: right;\n",
       "    }\n",
       "</style>\n",
       "<table border=\"1\" class=\"dataframe\">\n",
       "  <thead>\n",
       "    <tr style=\"text-align: right;\">\n",
       "      <th></th>\n",
       "      <th>Suburb</th>\n",
       "      <th>Address</th>\n",
       "      <th>Rooms</th>\n",
       "      <th>Type</th>\n",
       "      <th>Price</th>\n",
       "      <th>Method</th>\n",
       "      <th>SellerG</th>\n",
       "      <th>Distance</th>\n",
       "      <th>Postcode</th>\n",
       "      <th>Bedroom2</th>\n",
       "      <th>Bathroom</th>\n",
       "      <th>Car</th>\n",
       "      <th>Landsize</th>\n",
       "      <th>CouncilArea</th>\n",
       "      <th>Lattitude</th>\n",
       "      <th>Longtitude</th>\n",
       "      <th>Regionname</th>\n",
       "      <th>Propertycount</th>\n",
       "      <th>FormattedDate</th>\n",
       "    </tr>\n",
       "  </thead>\n",
       "  <tbody>\n",
       "    <tr>\n",
       "      <th>0</th>\n",
       "      <td>Abbotsford</td>\n",
       "      <td>85 Turner St</td>\n",
       "      <td>2</td>\n",
       "      <td>h</td>\n",
       "      <td>1480000.0</td>\n",
       "      <td>S</td>\n",
       "      <td>Biggin</td>\n",
       "      <td>2.5</td>\n",
       "      <td>3067.0</td>\n",
       "      <td>2.0</td>\n",
       "      <td>1.0</td>\n",
       "      <td>1.0</td>\n",
       "      <td>202.0</td>\n",
       "      <td>Yarra</td>\n",
       "      <td>-37.7996</td>\n",
       "      <td>144.9984</td>\n",
       "      <td>Northern Metropolitan</td>\n",
       "      <td>4019.0</td>\n",
       "      <td>12-03-2016</td>\n",
       "    </tr>\n",
       "    <tr>\n",
       "      <th>1</th>\n",
       "      <td>Abbotsford</td>\n",
       "      <td>25 Bloomburg St</td>\n",
       "      <td>2</td>\n",
       "      <td>h</td>\n",
       "      <td>1035000.0</td>\n",
       "      <td>S</td>\n",
       "      <td>Biggin</td>\n",
       "      <td>2.5</td>\n",
       "      <td>3067.0</td>\n",
       "      <td>2.0</td>\n",
       "      <td>1.0</td>\n",
       "      <td>0.0</td>\n",
       "      <td>156.0</td>\n",
       "      <td>Yarra</td>\n",
       "      <td>-37.8079</td>\n",
       "      <td>144.9934</td>\n",
       "      <td>Northern Metropolitan</td>\n",
       "      <td>4019.0</td>\n",
       "      <td>02-04-2016</td>\n",
       "    </tr>\n",
       "    <tr>\n",
       "      <th>2</th>\n",
       "      <td>Abbotsford</td>\n",
       "      <td>5 Charles St</td>\n",
       "      <td>3</td>\n",
       "      <td>h</td>\n",
       "      <td>1465000.0</td>\n",
       "      <td>SP</td>\n",
       "      <td>Biggin</td>\n",
       "      <td>2.5</td>\n",
       "      <td>3067.0</td>\n",
       "      <td>3.0</td>\n",
       "      <td>2.0</td>\n",
       "      <td>0.0</td>\n",
       "      <td>134.0</td>\n",
       "      <td>Yarra</td>\n",
       "      <td>-37.8093</td>\n",
       "      <td>144.9944</td>\n",
       "      <td>Northern Metropolitan</td>\n",
       "      <td>4019.0</td>\n",
       "      <td>03-04-2017</td>\n",
       "    </tr>\n",
       "    <tr>\n",
       "      <th>3</th>\n",
       "      <td>Abbotsford</td>\n",
       "      <td>40 Federation La</td>\n",
       "      <td>3</td>\n",
       "      <td>h</td>\n",
       "      <td>850000.0</td>\n",
       "      <td>PI</td>\n",
       "      <td>Biggin</td>\n",
       "      <td>2.5</td>\n",
       "      <td>3067.0</td>\n",
       "      <td>3.0</td>\n",
       "      <td>2.0</td>\n",
       "      <td>1.0</td>\n",
       "      <td>94.0</td>\n",
       "      <td>Yarra</td>\n",
       "      <td>-37.7969</td>\n",
       "      <td>144.9969</td>\n",
       "      <td>Northern Metropolitan</td>\n",
       "      <td>4019.0</td>\n",
       "      <td>03-04-2017</td>\n",
       "    </tr>\n",
       "    <tr>\n",
       "      <th>4</th>\n",
       "      <td>Abbotsford</td>\n",
       "      <td>55a Park St</td>\n",
       "      <td>4</td>\n",
       "      <td>h</td>\n",
       "      <td>1600000.0</td>\n",
       "      <td>VB</td>\n",
       "      <td>Nelson</td>\n",
       "      <td>2.5</td>\n",
       "      <td>3067.0</td>\n",
       "      <td>3.0</td>\n",
       "      <td>1.0</td>\n",
       "      <td>2.0</td>\n",
       "      <td>120.0</td>\n",
       "      <td>Yarra</td>\n",
       "      <td>-37.8072</td>\n",
       "      <td>144.9941</td>\n",
       "      <td>Northern Metropolitan</td>\n",
       "      <td>4019.0</td>\n",
       "      <td>06-04-2016</td>\n",
       "    </tr>\n",
       "  </tbody>\n",
       "</table>\n",
       "</div>"
      ],
      "text/plain": [
       "       Suburb           Address  Rooms Type      Price Method SellerG  \\\n",
       "0  Abbotsford      85 Turner St      2    h  1480000.0      S  Biggin   \n",
       "1  Abbotsford   25 Bloomburg St      2    h  1035000.0      S  Biggin   \n",
       "2  Abbotsford      5 Charles St      3    h  1465000.0     SP  Biggin   \n",
       "3  Abbotsford  40 Federation La      3    h   850000.0     PI  Biggin   \n",
       "4  Abbotsford       55a Park St      4    h  1600000.0     VB  Nelson   \n",
       "\n",
       "   Distance  Postcode  Bedroom2  Bathroom  Car  Landsize CouncilArea  \\\n",
       "0       2.5    3067.0       2.0       1.0  1.0     202.0       Yarra   \n",
       "1       2.5    3067.0       2.0       1.0  0.0     156.0       Yarra   \n",
       "2       2.5    3067.0       3.0       2.0  0.0     134.0       Yarra   \n",
       "3       2.5    3067.0       3.0       2.0  1.0      94.0       Yarra   \n",
       "4       2.5    3067.0       3.0       1.0  2.0     120.0       Yarra   \n",
       "\n",
       "   Lattitude  Longtitude             Regionname  Propertycount FormattedDate  \n",
       "0   -37.7996    144.9984  Northern Metropolitan         4019.0    12-03-2016  \n",
       "1   -37.8079    144.9934  Northern Metropolitan         4019.0    02-04-2016  \n",
       "2   -37.8093    144.9944  Northern Metropolitan         4019.0    03-04-2017  \n",
       "3   -37.7969    144.9969  Northern Metropolitan         4019.0    03-04-2017  \n",
       "4   -37.8072    144.9941  Northern Metropolitan         4019.0    06-04-2016  "
      ]
     },
     "execution_count": 89,
     "metadata": {},
     "output_type": "execute_result"
    }
   ],
   "source": [
    "melhousingclean_df.head()"
   ]
  },
  {
   "cell_type": "code",
   "execution_count": 91,
   "id": "9ce1b7fb-b937-4b01-8ef5-21bdf8a55cbd",
   "metadata": {},
   "outputs": [
    {
     "data": {
      "text/plain": [
       "Suburb           0\n",
       "Address          0\n",
       "Rooms            0\n",
       "Type             0\n",
       "Price            0\n",
       "Method           0\n",
       "SellerG          0\n",
       "Distance         0\n",
       "Postcode         0\n",
       "Bedroom2         0\n",
       "Bathroom         0\n",
       "Car              0\n",
       "Landsize         0\n",
       "CouncilArea      0\n",
       "Lattitude        0\n",
       "Longtitude       0\n",
       "Regionname       0\n",
       "Propertycount    0\n",
       "FormattedDate    0\n",
       "dtype: int64"
      ]
     },
     "execution_count": 91,
     "metadata": {},
     "output_type": "execute_result"
    }
   ],
   "source": [
    "melhousingclean_df.isna().sum()"
   ]
  },
  {
   "cell_type": "code",
   "execution_count": 93,
   "id": "d1051f0a-ae3b-4b49-858e-18f096fbb9a9",
   "metadata": {},
   "outputs": [],
   "source": [
    "#visualize the data using bar and pie\n",
    "#to find top 5 agent by volume price and bottom 5 agent, to find how many houses the agent sold"
   ]
  },
  {
   "cell_type": "code",
   "execution_count": 95,
   "id": "3bdac232-2f9d-4ea6-8661-e322902164d5",
   "metadata": {},
   "outputs": [
    {
     "data": {
      "text/html": [
       "<div>\n",
       "<style scoped>\n",
       "    .dataframe tbody tr th:only-of-type {\n",
       "        vertical-align: middle;\n",
       "    }\n",
       "\n",
       "    .dataframe tbody tr th {\n",
       "        vertical-align: top;\n",
       "    }\n",
       "\n",
       "    .dataframe thead th {\n",
       "        text-align: right;\n",
       "    }\n",
       "</style>\n",
       "<table border=\"1\" class=\"dataframe\">\n",
       "  <thead>\n",
       "    <tr style=\"text-align: right;\">\n",
       "      <th></th>\n",
       "      <th>Suburb</th>\n",
       "      <th>Address</th>\n",
       "      <th>Rooms</th>\n",
       "      <th>Type</th>\n",
       "      <th>Price</th>\n",
       "      <th>Method</th>\n",
       "      <th>PropertyAgent</th>\n",
       "      <th>Distance</th>\n",
       "      <th>Postcode</th>\n",
       "      <th>Bedroom2</th>\n",
       "      <th>Bathroom</th>\n",
       "      <th>Car</th>\n",
       "      <th>Landsize</th>\n",
       "      <th>CouncilArea</th>\n",
       "      <th>Lattitude</th>\n",
       "      <th>Longtitude</th>\n",
       "      <th>Regionname</th>\n",
       "      <th>Propertycount</th>\n",
       "      <th>FormattedDate</th>\n",
       "    </tr>\n",
       "  </thead>\n",
       "  <tbody>\n",
       "    <tr>\n",
       "      <th>0</th>\n",
       "      <td>Abbotsford</td>\n",
       "      <td>85 Turner St</td>\n",
       "      <td>2</td>\n",
       "      <td>h</td>\n",
       "      <td>1480000.0</td>\n",
       "      <td>S</td>\n",
       "      <td>Biggin</td>\n",
       "      <td>2.5</td>\n",
       "      <td>3067.0</td>\n",
       "      <td>2.0</td>\n",
       "      <td>1.0</td>\n",
       "      <td>1.0</td>\n",
       "      <td>202.0</td>\n",
       "      <td>Yarra</td>\n",
       "      <td>-37.79960</td>\n",
       "      <td>144.99840</td>\n",
       "      <td>Northern Metropolitan</td>\n",
       "      <td>4019.0</td>\n",
       "      <td>12-03-2016</td>\n",
       "    </tr>\n",
       "    <tr>\n",
       "      <th>1</th>\n",
       "      <td>Abbotsford</td>\n",
       "      <td>25 Bloomburg St</td>\n",
       "      <td>2</td>\n",
       "      <td>h</td>\n",
       "      <td>1035000.0</td>\n",
       "      <td>S</td>\n",
       "      <td>Biggin</td>\n",
       "      <td>2.5</td>\n",
       "      <td>3067.0</td>\n",
       "      <td>2.0</td>\n",
       "      <td>1.0</td>\n",
       "      <td>0.0</td>\n",
       "      <td>156.0</td>\n",
       "      <td>Yarra</td>\n",
       "      <td>-37.80790</td>\n",
       "      <td>144.99340</td>\n",
       "      <td>Northern Metropolitan</td>\n",
       "      <td>4019.0</td>\n",
       "      <td>02-04-2016</td>\n",
       "    </tr>\n",
       "    <tr>\n",
       "      <th>2</th>\n",
       "      <td>Abbotsford</td>\n",
       "      <td>5 Charles St</td>\n",
       "      <td>3</td>\n",
       "      <td>h</td>\n",
       "      <td>1465000.0</td>\n",
       "      <td>SP</td>\n",
       "      <td>Biggin</td>\n",
       "      <td>2.5</td>\n",
       "      <td>3067.0</td>\n",
       "      <td>3.0</td>\n",
       "      <td>2.0</td>\n",
       "      <td>0.0</td>\n",
       "      <td>134.0</td>\n",
       "      <td>Yarra</td>\n",
       "      <td>-37.80930</td>\n",
       "      <td>144.99440</td>\n",
       "      <td>Northern Metropolitan</td>\n",
       "      <td>4019.0</td>\n",
       "      <td>03-04-2017</td>\n",
       "    </tr>\n",
       "    <tr>\n",
       "      <th>3</th>\n",
       "      <td>Abbotsford</td>\n",
       "      <td>40 Federation La</td>\n",
       "      <td>3</td>\n",
       "      <td>h</td>\n",
       "      <td>850000.0</td>\n",
       "      <td>PI</td>\n",
       "      <td>Biggin</td>\n",
       "      <td>2.5</td>\n",
       "      <td>3067.0</td>\n",
       "      <td>3.0</td>\n",
       "      <td>2.0</td>\n",
       "      <td>1.0</td>\n",
       "      <td>94.0</td>\n",
       "      <td>Yarra</td>\n",
       "      <td>-37.79690</td>\n",
       "      <td>144.99690</td>\n",
       "      <td>Northern Metropolitan</td>\n",
       "      <td>4019.0</td>\n",
       "      <td>03-04-2017</td>\n",
       "    </tr>\n",
       "    <tr>\n",
       "      <th>4</th>\n",
       "      <td>Abbotsford</td>\n",
       "      <td>55a Park St</td>\n",
       "      <td>4</td>\n",
       "      <td>h</td>\n",
       "      <td>1600000.0</td>\n",
       "      <td>VB</td>\n",
       "      <td>Nelson</td>\n",
       "      <td>2.5</td>\n",
       "      <td>3067.0</td>\n",
       "      <td>3.0</td>\n",
       "      <td>1.0</td>\n",
       "      <td>2.0</td>\n",
       "      <td>120.0</td>\n",
       "      <td>Yarra</td>\n",
       "      <td>-37.80720</td>\n",
       "      <td>144.99410</td>\n",
       "      <td>Northern Metropolitan</td>\n",
       "      <td>4019.0</td>\n",
       "      <td>06-04-2016</td>\n",
       "    </tr>\n",
       "    <tr>\n",
       "      <th>...</th>\n",
       "      <td>...</td>\n",
       "      <td>...</td>\n",
       "      <td>...</td>\n",
       "      <td>...</td>\n",
       "      <td>...</td>\n",
       "      <td>...</td>\n",
       "      <td>...</td>\n",
       "      <td>...</td>\n",
       "      <td>...</td>\n",
       "      <td>...</td>\n",
       "      <td>...</td>\n",
       "      <td>...</td>\n",
       "      <td>...</td>\n",
       "      <td>...</td>\n",
       "      <td>...</td>\n",
       "      <td>...</td>\n",
       "      <td>...</td>\n",
       "      <td>...</td>\n",
       "      <td>...</td>\n",
       "    </tr>\n",
       "    <tr>\n",
       "      <th>13575</th>\n",
       "      <td>Wheelers Hill</td>\n",
       "      <td>12 Strada Cr</td>\n",
       "      <td>4</td>\n",
       "      <td>h</td>\n",
       "      <td>1245000.0</td>\n",
       "      <td>S</td>\n",
       "      <td>Barry</td>\n",
       "      <td>16.7</td>\n",
       "      <td>3150.0</td>\n",
       "      <td>4.0</td>\n",
       "      <td>2.0</td>\n",
       "      <td>2.0</td>\n",
       "      <td>652.0</td>\n",
       "      <td>Maribyrnong</td>\n",
       "      <td>-37.90562</td>\n",
       "      <td>145.16761</td>\n",
       "      <td>South-Eastern Metropolitan</td>\n",
       "      <td>7392.0</td>\n",
       "      <td>08-26-2017</td>\n",
       "    </tr>\n",
       "    <tr>\n",
       "      <th>13576</th>\n",
       "      <td>Williamstown</td>\n",
       "      <td>77 Merrett Dr</td>\n",
       "      <td>3</td>\n",
       "      <td>h</td>\n",
       "      <td>1031000.0</td>\n",
       "      <td>SP</td>\n",
       "      <td>Williams</td>\n",
       "      <td>6.8</td>\n",
       "      <td>3016.0</td>\n",
       "      <td>3.0</td>\n",
       "      <td>2.0</td>\n",
       "      <td>2.0</td>\n",
       "      <td>333.0</td>\n",
       "      <td>Maribyrnong</td>\n",
       "      <td>-37.85927</td>\n",
       "      <td>144.87904</td>\n",
       "      <td>Western Metropolitan</td>\n",
       "      <td>6380.0</td>\n",
       "      <td>08-26-2017</td>\n",
       "    </tr>\n",
       "    <tr>\n",
       "      <th>13577</th>\n",
       "      <td>Williamstown</td>\n",
       "      <td>83 Power St</td>\n",
       "      <td>3</td>\n",
       "      <td>h</td>\n",
       "      <td>1170000.0</td>\n",
       "      <td>S</td>\n",
       "      <td>Raine</td>\n",
       "      <td>6.8</td>\n",
       "      <td>3016.0</td>\n",
       "      <td>3.0</td>\n",
       "      <td>2.0</td>\n",
       "      <td>4.0</td>\n",
       "      <td>436.0</td>\n",
       "      <td>Maribyrnong</td>\n",
       "      <td>-37.85274</td>\n",
       "      <td>144.88738</td>\n",
       "      <td>Western Metropolitan</td>\n",
       "      <td>6380.0</td>\n",
       "      <td>08-26-2017</td>\n",
       "    </tr>\n",
       "    <tr>\n",
       "      <th>13578</th>\n",
       "      <td>Williamstown</td>\n",
       "      <td>96 Verdon St</td>\n",
       "      <td>4</td>\n",
       "      <td>h</td>\n",
       "      <td>2500000.0</td>\n",
       "      <td>PI</td>\n",
       "      <td>Sweeney</td>\n",
       "      <td>6.8</td>\n",
       "      <td>3016.0</td>\n",
       "      <td>4.0</td>\n",
       "      <td>1.0</td>\n",
       "      <td>5.0</td>\n",
       "      <td>866.0</td>\n",
       "      <td>Maribyrnong</td>\n",
       "      <td>-37.85908</td>\n",
       "      <td>144.89299</td>\n",
       "      <td>Western Metropolitan</td>\n",
       "      <td>6380.0</td>\n",
       "      <td>08-26-2017</td>\n",
       "    </tr>\n",
       "    <tr>\n",
       "      <th>13579</th>\n",
       "      <td>Yarraville</td>\n",
       "      <td>6 Agnes St</td>\n",
       "      <td>4</td>\n",
       "      <td>h</td>\n",
       "      <td>1285000.0</td>\n",
       "      <td>SP</td>\n",
       "      <td>Village</td>\n",
       "      <td>6.3</td>\n",
       "      <td>3013.0</td>\n",
       "      <td>4.0</td>\n",
       "      <td>1.0</td>\n",
       "      <td>1.0</td>\n",
       "      <td>362.0</td>\n",
       "      <td>Maribyrnong</td>\n",
       "      <td>-37.81188</td>\n",
       "      <td>144.88449</td>\n",
       "      <td>Western Metropolitan</td>\n",
       "      <td>6543.0</td>\n",
       "      <td>08-26-2017</td>\n",
       "    </tr>\n",
       "  </tbody>\n",
       "</table>\n",
       "<p>13580 rows × 19 columns</p>\n",
       "</div>"
      ],
      "text/plain": [
       "              Suburb           Address  Rooms Type      Price Method  \\\n",
       "0         Abbotsford      85 Turner St      2    h  1480000.0      S   \n",
       "1         Abbotsford   25 Bloomburg St      2    h  1035000.0      S   \n",
       "2         Abbotsford      5 Charles St      3    h  1465000.0     SP   \n",
       "3         Abbotsford  40 Federation La      3    h   850000.0     PI   \n",
       "4         Abbotsford       55a Park St      4    h  1600000.0     VB   \n",
       "...              ...               ...    ...  ...        ...    ...   \n",
       "13575  Wheelers Hill      12 Strada Cr      4    h  1245000.0      S   \n",
       "13576   Williamstown     77 Merrett Dr      3    h  1031000.0     SP   \n",
       "13577   Williamstown       83 Power St      3    h  1170000.0      S   \n",
       "13578   Williamstown      96 Verdon St      4    h  2500000.0     PI   \n",
       "13579     Yarraville        6 Agnes St      4    h  1285000.0     SP   \n",
       "\n",
       "      PropertyAgent  Distance  Postcode  Bedroom2  Bathroom  Car  Landsize  \\\n",
       "0            Biggin       2.5    3067.0       2.0       1.0  1.0     202.0   \n",
       "1            Biggin       2.5    3067.0       2.0       1.0  0.0     156.0   \n",
       "2            Biggin       2.5    3067.0       3.0       2.0  0.0     134.0   \n",
       "3            Biggin       2.5    3067.0       3.0       2.0  1.0      94.0   \n",
       "4            Nelson       2.5    3067.0       3.0       1.0  2.0     120.0   \n",
       "...             ...       ...       ...       ...       ...  ...       ...   \n",
       "13575         Barry      16.7    3150.0       4.0       2.0  2.0     652.0   \n",
       "13576      Williams       6.8    3016.0       3.0       2.0  2.0     333.0   \n",
       "13577         Raine       6.8    3016.0       3.0       2.0  4.0     436.0   \n",
       "13578       Sweeney       6.8    3016.0       4.0       1.0  5.0     866.0   \n",
       "13579       Village       6.3    3013.0       4.0       1.0  1.0     362.0   \n",
       "\n",
       "       CouncilArea  Lattitude  Longtitude                  Regionname  \\\n",
       "0            Yarra  -37.79960   144.99840       Northern Metropolitan   \n",
       "1            Yarra  -37.80790   144.99340       Northern Metropolitan   \n",
       "2            Yarra  -37.80930   144.99440       Northern Metropolitan   \n",
       "3            Yarra  -37.79690   144.99690       Northern Metropolitan   \n",
       "4            Yarra  -37.80720   144.99410       Northern Metropolitan   \n",
       "...            ...        ...         ...                         ...   \n",
       "13575  Maribyrnong  -37.90562   145.16761  South-Eastern Metropolitan   \n",
       "13576  Maribyrnong  -37.85927   144.87904        Western Metropolitan   \n",
       "13577  Maribyrnong  -37.85274   144.88738        Western Metropolitan   \n",
       "13578  Maribyrnong  -37.85908   144.89299        Western Metropolitan   \n",
       "13579  Maribyrnong  -37.81188   144.88449        Western Metropolitan   \n",
       "\n",
       "       Propertycount FormattedDate  \n",
       "0             4019.0    12-03-2016  \n",
       "1             4019.0    02-04-2016  \n",
       "2             4019.0    03-04-2017  \n",
       "3             4019.0    03-04-2017  \n",
       "4             4019.0    06-04-2016  \n",
       "...              ...           ...  \n",
       "13575         7392.0    08-26-2017  \n",
       "13576         6380.0    08-26-2017  \n",
       "13577         6380.0    08-26-2017  \n",
       "13578         6380.0    08-26-2017  \n",
       "13579         6543.0    08-26-2017  \n",
       "\n",
       "[13580 rows x 19 columns]"
      ]
     },
     "execution_count": 95,
     "metadata": {},
     "output_type": "execute_result"
    }
   ],
   "source": [
    "#to rename to colomn\n",
    "melhousingclean_df.rename(columns={'SellerG' : 'PropertyAgent'}, inplace=True)\n",
    "melhousingclean_df"
   ]
  },
  {
   "cell_type": "code",
   "execution_count": 97,
   "id": "b7d7335e-ed65-40fc-beaf-5181b37185aa",
   "metadata": {},
   "outputs": [
    {
     "name": "stdout",
     "output_type": "stream",
     "text": [
      "Total of house sold is : 13580\n"
     ]
    }
   ],
   "source": [
    "total_house_sold = melhousingclean_df['Address'].count()\n",
    "print (f\"Total of house sold is : {total_house_sold}\")"
   ]
  },
  {
   "cell_type": "code",
   "execution_count": 99,
   "id": "c6df9a33-9629-4add-be2e-9826e9be8d21",
   "metadata": {},
   "outputs": [
    {
     "data": {
      "text/plain": [
       "PropertyAgent\n",
       "Nelson           1565\n",
       "Jellis           1316\n",
       "hockingstuart    1167\n",
       "Barry            1011\n",
       "Ray               701\n",
       "                 ... \n",
       "Prowse              1\n",
       "Luxe                1\n",
       "Zahn                1\n",
       "Homes               1\n",
       "Point               1\n",
       "Name: count, Length: 268, dtype: int64"
      ]
     },
     "execution_count": 99,
     "metadata": {},
     "output_type": "execute_result"
    }
   ],
   "source": [
    "#to count how many property agents in Melb\n",
    "melb_agent = melhousingclean_df['PropertyAgent'].value_counts()\n",
    "melb_agent"
   ]
  },
  {
   "cell_type": "code",
   "execution_count": 101,
   "id": "2b303ee5-f26d-4004-b133-5af4940c348e",
   "metadata": {},
   "outputs": [
    {
     "data": {
      "text/plain": [
       "PropertyAgent\n",
       "Jellis           1.800503e+09\n",
       "Nelson           1.588438e+09\n",
       "Marshall         1.244748e+09\n",
       "hockingstuart    1.114167e+09\n",
       "Barry            8.859425e+08\n",
       "Name: Price, dtype: float64"
      ]
     },
     "execution_count": 101,
     "metadata": {},
     "output_type": "execute_result"
    }
   ],
   "source": [
    "#to find top 5 most selling agents\n",
    "#identifying high-volume sellers \n",
    "melb_agent_total = melhousingclean_df.groupby('PropertyAgent')['Price'].sum().sort_values(ascending=False).head(5)\n",
    "melb_agent_total"
   ]
  },
  {
   "cell_type": "code",
   "execution_count": 103,
   "id": "fb31e646-fe83-42cd-bd45-4d00f7bdd793",
   "metadata": {},
   "outputs": [
    {
     "name": "stderr",
     "output_type": "stream",
     "text": [
      "/var/folders/df/dwj7lm7s3vzgwfn_gv80jsqw0000gn/T/ipykernel_13378/2696414012.py:3: FutureWarning: \n",
      "\n",
      "Passing `palette` without assigning `hue` is deprecated and will be removed in v0.14.0. Assign the `x` variable to `hue` and set `legend=False` for the same effect.\n",
      "\n",
      "  sns.barplot(x=melb_agent_total.index, y=melb_agent_total.values, palette='magma')\n"
     ]
    },
    {
     "data": {
      "image/png": "[encoded data removed]",
      "text/plain": [
       "<Figure size 600x500 with 1 Axes>"
      ]
     },
     "metadata": {},
     "output_type": "display_data"
    }
   ],
   "source": [
    "#chart for high volume sellers using pallete\n",
    "plt.figure(figsize=(6, 5))\n",
    "sns.barplot(x=melb_agent_total.index, y=melb_agent_total.values, palette='magma')\n",
    "\n",
    "plt.title('High Volume Seller (Top 5 Agents)')\n",
    "plt.xlabel('Property Agents')\n",
    "plt.ylabel('Total Sales (AUD)')\n",
    "plt.xticks(rotation=45)\n",
    "plt.tight_layout()\n",
    "\n",
    "plt.show()"
   ]
  },
  {
   "cell_type": "code",
   "execution_count": 105,
   "id": "51e8b39d-59f6-4eb8-9971-caeadc8289af",
   "metadata": {},
   "outputs": [
    {
     "data": {
      "text/plain": [
       "PropertyAgent\n",
       "Nelson           1565\n",
       "Jellis           1316\n",
       "hockingstuart    1167\n",
       "Barry            1011\n",
       "Marshall          659\n",
       "Name: count, dtype: int64"
      ]
     },
     "execution_count": 105,
     "metadata": {},
     "output_type": "execute_result"
    }
   ],
   "source": [
    "#to count how many house the agent sold \n",
    "top_five = ['Jellis', 'Nelson', 'Marshall', 'hockingstuart', 'Barry']\n",
    "total_house = melhousingclean_df[melhousingclean_df['PropertyAgent'].isin(top_five)]\n",
    "melb_agent_total_house = total_house['PropertyAgent'].value_counts()\n",
    "melb_agent_total_house"
   ]
  },
  {
   "cell_type": "code",
   "execution_count": 107,
   "id": "6fc3c1c2-988e-432b-ba94-8133aead5627",
   "metadata": {},
   "outputs": [
    {
     "data": {
      "image/png": "[encoded data removed]",
      "text/plain": [
       "<Figure size 600x500 with 1 Axes>"
      ]
     },
     "metadata": {},
     "output_type": "display_data"
    }
   ],
   "source": [
    "#to show how many houses the agent sold \n",
    "plt.figure(figsize=(6, 5))\n",
    "plt.bar(melb_agent_total_house.index, melb_agent_total_house.values, alpha=1.0, facecolor='#1f77b4', align=\"center\")\n",
    "\n",
    "plt.title('Top 5 Agents Total House Sold')\n",
    "plt.xlabel('Property Agents')\n",
    "plt.ylabel('Total House Sold')\n",
    "plt.xticks(rotation=45)\n",
    "plt.tight_layout()\n",
    "\n",
    "plt.show()"
   ]
  },
  {
   "cell_type": "code",
   "execution_count": 109,
   "id": "a575e034-9c6b-4b82-bd85-8be66d8f1322",
   "metadata": {},
   "outputs": [
    {
     "data": {
      "text/plain": [
       "PropertyAgent\n",
       "Rosin                      330000.0\n",
       "hockingstuart/Advantage    330000.0\n",
       "hockingstuart/Village      345000.0\n",
       "Wood                       370000.0\n",
       "Oak                        380000.0\n",
       "Name: Price, dtype: float64"
      ]
     },
     "execution_count": 109,
     "metadata": {},
     "output_type": "execute_result"
    }
   ],
   "source": [
    "#identifying bottom 5-volume sellers\n",
    "melb_agent_total_last = melhousingclean_df.groupby('PropertyAgent')['Price'].sum().sort_values(ascending=True).head(5)\n",
    "melb_agent_total_last"
   ]
  },
  {
   "cell_type": "code",
   "execution_count": 111,
   "id": "e24c30ee-0572-4b21-a380-7a11ad063153",
   "metadata": {},
   "outputs": [
    {
     "name": "stderr",
     "output_type": "stream",
     "text": [
      "/var/folders/df/dwj7lm7s3vzgwfn_gv80jsqw0000gn/T/ipykernel_13378/1489123750.py:3: FutureWarning: \n",
      "\n",
      "Passing `palette` without assigning `hue` is deprecated and will be removed in v0.14.0. Assign the `x` variable to `hue` and set `legend=False` for the same effect.\n",
      "\n",
      "  sns.barplot(x=melb_agent_total_last.index, y=melb_agent_total_last.values, palette='magma')\n"
     ]
    },
    {
     "data": {
      "image/png": "[encoded data removed]",
      "text/plain": [
       "<Figure size 600x500 with 1 Axes>"
      ]
     },
     "metadata": {},
     "output_type": "display_data"
    }
   ],
   "source": [
    "#chart for bottom 5 volume sellers using pallete\n",
    "plt.figure(figsize=(6, 5))\n",
    "sns.barplot(x=melb_agent_total_last.index, y=melb_agent_total_last.values, palette='magma')\n",
    "\n",
    "plt.title('Bottom 5 Agents')\n",
    "plt.xlabel('Property Agents')\n",
    "plt.ylabel('Total Sales (AUD)')\n",
    "plt.xticks(rotation=45)\n",
    "plt.tight_layout()\n",
    "\n",
    "plt.show()"
   ]
  },
  {
   "cell_type": "code",
   "execution_count": 113,
   "id": "d577d918-7b26-4fca-aecf-39df92380304",
   "metadata": {},
   "outputs": [
    {
     "data": {
      "text/plain": [
       "PropertyAgent\n",
       "hockingstuart/Advantage    1\n",
       "Wood                       1\n",
       "hockingstuart/Village      1\n",
       "Oak                        1\n",
       "Rosin                      1\n",
       "Name: count, dtype: int64"
      ]
     },
     "execution_count": 113,
     "metadata": {},
     "output_type": "execute_result"
    }
   ],
   "source": [
    "#to count how many house the agent sold for bottom 5\n",
    "bottom_five = ['Rosin', 'hockingstuart/Advantage', 'hockingstuart/Village', 'Wood', 'Oak']\n",
    "total_bottom_house = melhousingclean_df[melhousingclean_df['PropertyAgent'].isin(bottom_five)]\n",
    "melb_agent_bottom_house = total_bottom_house['PropertyAgent'].value_counts()\n",
    "melb_agent_bottom_house\n",
    "#there is no need to visualize the data"
   ]
  },
  {
   "cell_type": "code",
   "execution_count": 115,
   "id": "a4ac5133-5842-47a5-9a71-1ba15325f5cc",
   "metadata": {},
   "outputs": [
    {
     "data": {
      "text/plain": [
       "PropertyAgent\n",
       "Weast        3.320000e+06\n",
       "Darras       2.950000e+06\n",
       "VICProp      2.797667e+06\n",
       "Sotheby's    2.453750e+06\n",
       "Lucas        2.450000e+06\n",
       "Name: Price, dtype: float64"
      ]
     },
     "execution_count": 115,
     "metadata": {},
     "output_type": "execute_result"
    }
   ],
   "source": [
    "#BONUS\n",
    "#to find top 5 agent by average total sell\n",
    "#to represent agents who may deal in higher-end properties, show the possibility that agents sell luxury property\n",
    "melb_agent_avg = melhousingclean_df.groupby('PropertyAgent')['Price'].mean().sort_values(ascending=False).head(5)\n",
    "melb_agent_avg"
   ]
  },
  {
   "cell_type": "code",
   "execution_count": 117,
   "id": "74578cf4-29ce-4c14-9fa9-1cde4c650d2d",
   "metadata": {},
   "outputs": [
    {
     "name": "stderr",
     "output_type": "stream",
     "text": [
      "/var/folders/df/dwj7lm7s3vzgwfn_gv80jsqw0000gn/T/ipykernel_13378/3130921094.py:3: FutureWarning: \n",
      "\n",
      "Passing `palette` without assigning `hue` is deprecated and will be removed in v0.14.0. Assign the `x` variable to `hue` and set `legend=False` for the same effect.\n",
      "\n",
      "  sns.barplot(x=melb_agent_avg.index, y=melb_agent_avg.values, palette='magma')\n"
     ]
    },
    {
     "data": {
      "image/png": "[encoded data removed]",
      "text/plain": [
       "<Figure size 600x500 with 1 Axes>"
      ]
     },
     "metadata": {},
     "output_type": "display_data"
    }
   ],
   "source": [
    "#chart for top 5 agent by average sales\n",
    "plt.figure(figsize=(6, 5))\n",
    "sns.barplot(x=melb_agent_avg.index, y=melb_agent_avg.values, palette='magma')\n",
    "\n",
    "plt.title('Highest Average Agent (Top 5)')\n",
    "plt.xlabel('Property Agents')\n",
    "plt.ylabel('Average Sales (AUD)')\n",
    "plt.xticks(rotation=45)\n",
    "plt.tight_layout()\n",
    "\n",
    "plt.show()"
   ]
  },
  {
   "cell_type": "code",
   "execution_count": 119,
   "id": "cf0de13b-3197-47f1-9e17-befa4e7982e4",
   "metadata": {},
   "outputs": [
    {
     "data": {
      "text/plain": [
       "PropertyAgent\n",
       "Sotheby's    6\n",
       "VICProp      3\n",
       "Weast        1\n",
       "Lucas        1\n",
       "Darras       1\n",
       "Name: count, dtype: int64"
      ]
     },
     "execution_count": 119,
     "metadata": {},
     "output_type": "execute_result"
    }
   ],
   "source": [
    "#to count how many house the agent sold \n",
    "avg_five = [\"Weast\", \"Darras\", \"VICProp\", \"Sotheby's\", \"Lucas\"]\n",
    "avg_total_house = melhousingclean_df[melhousingclean_df['PropertyAgent'].isin(avg_five)]\n",
    "melb_agent_avg_house = avg_total_house['PropertyAgent'].value_counts()\n",
    "melb_agent_avg_house\n",
    "#there is no need to make a visualization of data"
   ]
  },
  {
   "cell_type": "code",
   "execution_count": 121,
   "id": "0e8a8981-3d6a-4ff5-aa7e-a4dff1f0c9a0",
   "metadata": {},
   "outputs": [],
   "source": [
    "#to find the relation of house distance from CBD to house price by all 8 regions in Melbourne"
   ]
  },
  {
   "cell_type": "code",
   "execution_count": 123,
   "id": "cc9c5ab3-73e0-40bf-a4c4-797555f52050",
   "metadata": {},
   "outputs": [
    {
     "data": {
      "text/plain": [
       "Distance\n",
       "11.2    739\n",
       "9.2     367\n",
       "13.9    324\n",
       "7.8     306\n",
       "4.6     263\n",
       "       ... \n",
       "37.5      1\n",
       "29.3      1\n",
       "47.4      1\n",
       "39.8      1\n",
       "48.1      1\n",
       "Name: count, Length: 202, dtype: int64"
      ]
     },
     "execution_count": 123,
     "metadata": {},
     "output_type": "execute_result"
    }
   ],
   "source": [
    "#to find how many category of distances\n",
    "distance = melhousingclean_df['Distance'].value_counts()\n",
    "distance"
   ]
  },
  {
   "cell_type": "code",
   "execution_count": 125,
   "id": "fefd283d-3754-41c6-b778-27848fa733d1",
   "metadata": {},
   "outputs": [
    {
     "data": {
      "text/plain": [
       "Regionname            Distance\n",
       "Eastern Metropolitan  13.8        99\n",
       "                      13.9        89\n",
       "                      11.8        83\n",
       "                      7.9         80\n",
       "                      10.5        60\n",
       "                                  ..\n",
       "Western Metropolitan  23.8         2\n",
       "                      27.7         2\n",
       "Western Victoria      29.8        19\n",
       "                      31.7        12\n",
       "                      37.5         1\n",
       "Name: count, Length: 285, dtype: int64"
      ]
     },
     "execution_count": 125,
     "metadata": {},
     "output_type": "execute_result"
    }
   ],
   "source": [
    "#to find all the region with groupby to see the houses' distance from cbd in that region\n",
    "region_distance = melhousingclean_df.groupby('Regionname')['Distance'].value_counts()\n",
    "region_distance"
   ]
  },
  {
   "cell_type": "code",
   "execution_count": 127,
   "id": "4bda7189-51b7-4443-939c-6f3dc6eb8ab8",
   "metadata": {},
   "outputs": [
    {
     "name": "stderr",
     "output_type": "stream",
     "text": [
      "/var/folders/df/dwj7lm7s3vzgwfn_gv80jsqw0000gn/T/ipykernel_13378/181151615.py:5: FutureWarning: \n",
      "\n",
      "Passing `palette` without assigning `hue` is deprecated and will be removed in v0.14.0. Assign the `x` variable to `hue` and set `legend=False` for the same effect.\n",
      "\n",
      "  sns.boxplot(x='Regionname', y='Distance', data=melhousingclean_df, palette='magma')\n"
     ]
    },
    {
     "data": {
      "image/png": "[encoded data removed]",
      "text/plain": [
       "<Figure size 1400x800 with 1 Axes>"
      ]
     },
     "metadata": {},
     "output_type": "display_data"
    }
   ],
   "source": [
    "# Set ukuran figure\n",
    "plt.figure(figsize=(14, 8))\n",
    "\n",
    "# Buat boxplot\n",
    "sns.boxplot(x='Regionname', y='Distance', data=melhousingclean_df, palette='magma')\n",
    "\n",
    "# Tambahkan judul dan label\n",
    "plt.title('Distribusi Rumah Properti Berdasarkan Regionname', fontsize=16)\n",
    "plt.xlabel('Region', fontsize=12)\n",
    "plt.ylabel('jarak ke CBD dalam KM', fontsize=12)\n",
    "plt.xticks(rotation=90)  # Memutar label sumbu x untuk keterbacaan\n",
    "plt.tight_layout()  # Mengatur layout agar lebih rapi\n",
    "\n",
    "\n",
    "# Menampilkan plot\n",
    "plt.show()"
   ]
  },
  {
   "cell_type": "code",
   "execution_count": 129,
   "id": "65188182-d15e-4ca7-9d66-8897001b4b0a",
   "metadata": {},
   "outputs": [
    {
     "data": {
      "text/plain": [
       "Distance  Price    \n",
       "11.2      800000.0     9\n",
       "9.2       2000000.0    8\n",
       "8.0       1400000.0    7\n",
       "11.2      1300000.0    7\n",
       "          650000.0     7\n",
       "5.2       860000.0     7\n",
       "9.2       600000.0     6\n",
       "11.2      780000.0     6\n",
       "          810000.0     6\n",
       "          815000.0     6\n",
       "Name: count, dtype: int64"
      ]
     },
     "execution_count": 129,
     "metadata": {},
     "output_type": "execute_result"
    }
   ],
   "source": [
    "#to see the to 10 highest house price and to see the distance of that house from cbd from cbd\n",
    "price_distance = melhousingclean_df.groupby('Distance')['Price'].value_counts().sort_values(ascending=False).head(10)\n",
    "price_distance"
   ]
  },
  {
   "cell_type": "code",
   "execution_count": 131,
   "id": "53ed7021-a3dd-4e6b-b688-67cf48fe7823",
   "metadata": {},
   "outputs": [
    {
     "name": "stderr",
     "output_type": "stream",
     "text": [
      "/var/folders/df/dwj7lm7s3vzgwfn_gv80jsqw0000gn/T/ipykernel_13378/4180968107.py:7: FutureWarning: \n",
      "\n",
      "Passing `palette` without assigning `hue` is deprecated and will be removed in v0.14.0. Assign the `x` variable to `hue` and set `legend=False` for the same effect.\n",
      "\n",
      "  sns.boxplot(x='Regionname', y='Price', data=melhousingclean_df, palette='magma')\n"
     ]
    },
    {
     "data": {
      "image/png": "[encoded data removed]",
      "text/plain": [
       "<Figure size 1400x800 with 1 Axes>"
      ]
     },
     "metadata": {},
     "output_type": "display_data"
    }
   ],
   "source": [
    "#after we found the distance for each region, we want to know how is the price affected by the distance\n",
    "\n",
    "# Set ukuran figure\n",
    "plt.figure(figsize=(14, 8))\n",
    "\n",
    "# Buat boxplot\n",
    "sns.boxplot(x='Regionname', y='Price', data=melhousingclean_df, palette='magma')\n",
    "\n",
    "# Tambahkan judul dan label\n",
    "plt.title('House price in AUD distribution')\n",
    "plt.xlabel('Region')\n",
    "plt.ylabel('Price in AUD')\n",
    "plt.xticks(rotation=90)  # Memutar label sumbu x untuk keterbacaan\n",
    "plt.tight_layout()  # Mengatur layout agar lebih rapi\n",
    "plt.gca().yaxis.set_major_formatter(plt.FuncFormatter(lambda x, _: f'${x:,.0f}'))\n",
    "\n",
    "# Menampilkan plot\n",
    "plt.show()"
   ]
  },
  {
   "cell_type": "code",
   "execution_count": 145,
   "id": "9dbac2f2-ec3e-471b-911b-d2cd4b833978",
   "metadata": {},
   "outputs": [
    {
     "data": {
      "image/png": "[encoded data removed]",
      "text/plain": [
       "<Figure size 1200x600 with 1 Axes>"
      ]
     },
     "metadata": {},
     "output_type": "display_data"
    }
   ],
   "source": [
    "#to create the plot\n",
    "plt.figure(figsize=(12, 6))\n",
    "#to create the scatter\n",
    "plt.scatter(melhousingclean_df['Distance'], melhousingclean_df['Price'], color='red', alpha=0.7)\n",
    "\n",
    "plt.title('Price based on distance')\n",
    "plt.xlabel('Distance in KM')\n",
    "plt.ylabel('Price in AUD')\n",
    "\n",
    "\n",
    "plt.show()"
   ]
  },
  {
   "cell_type": "code",
   "execution_count": 149,
   "id": "76132995-1a1a-42fb-b3ca-249b3fc3a424",
   "metadata": {},
   "outputs": [
    {
     "name": "stdout",
     "output_type": "stream",
     "text": [
      "The correlation between Distance and Price: -0.16\n"
     ]
    }
   ],
   "source": [
    "correlation = melhousingclean_df['Distance'].corr(melhousingclean_df['Price'])\n",
    "print(f\"The correlation between Distance and Price: {correlation:.2f}\")"
   ]
  },
  {
   "cell_type": "code",
   "execution_count": 151,
   "id": "9e9954d2-3761-4fda-87da-a1af9ed9b29d",
   "metadata": {},
   "outputs": [
    {
     "data": {
      "image/png": "[encoded data removed]",
      "text/plain": [
       "<Figure size 600x500 with 1 Axes>"
      ]
     },
     "metadata": {},
     "output_type": "display_data"
    }
   ],
   "source": [
    "#linear regression model\n",
    "slope, intercept, r_value, p_value, std_err = stats.linregress(melhousingclean_df['Distance'], melhousingclean_df['Price'])\n",
    "\n",
    "#to create the plot\n",
    "x_values = melhousingclean_df['Distance']\n",
    "y_values = slope * x_values + intercept\n",
    "\n",
    "plt.figure(figsize=(6, 5))\n",
    "plt.scatter(melhousingclean_df['Distance'], melhousingclean_df['Price'], color='blue')\n",
    "plt.plot(x_values, y_values, color='red')\n",
    "\n",
    "plt.title(f\"The correlation between Distance and Price: {correlation:.2f}\")\n",
    "plt.xlabel('Distance')\n",
    "plt.ylabel('Price')\n",
    "\n",
    "plt.show()\n"
   ]
  },
  {
   "cell_type": "code",
   "execution_count": 139,
   "id": "621437a1-445f-499c-8882-1b1f3a7decf0",
   "metadata": {},
   "outputs": [],
   "source": [
    "#to find how many houses sold per year"
   ]
  },
  {
   "cell_type": "code",
   "execution_count": 160,
   "id": "c23d0973-557e-4ea6-b865-3bb480a366e7",
   "metadata": {},
   "outputs": [
    {
     "name": "stdout",
     "output_type": "stream",
     "text": [
      "    Type\n",
      "0  house\n",
      "1  house\n",
      "2  house\n",
      "3  house\n",
      "4  house\n"
     ]
    }
   ],
   "source": [
    "#to change the name of the Type for each row\n",
    "# Create a dictionary to rename the values\n",
    "replace_type = {\n",
    "    'h': 'house',\n",
    "    'u': 'unit',\n",
    "    't': 'townhouse'\n",
    "}\n",
    "\n",
    "# Replace the values in the 'Type' column using the dictionary\n",
    "melhousingclean_df['Type'] = melhousingclean_df['Type'].replace(replace_type)\n",
    "\n",
    "# Check the changes\n",
    "print(melhousingclean_df[['Type']].head())\n"
   ]
  },
  {
   "cell_type": "code",
   "execution_count": 170,
   "id": "45ac4ed2-aa4e-410f-979a-2bca22df1e01",
   "metadata": {},
   "outputs": [
    {
     "name": "stdout",
     "output_type": "stream",
     "text": [
      "Year    Type     \n",
      "2016.0  house        1624\n",
      "        townhouse     205\n",
      "        unit          643\n",
      "2017.0  house        1906\n",
      "        townhouse     204\n",
      "        unit          556\n",
      "dtype: int64\n"
     ]
    }
   ],
   "source": [
    "\n",
    "# Convert 'FormattedDate' to datetime format\n",
    "melhousingclean_df['FormattedDate'] = pd.to_datetime(melhousingclean_df['FormattedDate'], format='%d-%m-%Y', errors='coerce')\n",
    "\n",
    "#extract the year\n",
    "melhousingclean_df['Year'] = melhousingclean_df['FormattedDate'].dt.year\n",
    "\n",
    "# Group by the year and count the number of sales\n",
    "house_sales_year = melhousingclean_df.groupby(['Year', 'Type']).size()\n",
    "\n",
    "# Display the result\n",
    "print(house_sales_year)\n"
   ]
  },
  {
   "cell_type": "code",
   "execution_count": 196,
   "id": "bc0934ac-953d-49a0-96ce-208d9401460e",
   "metadata": {},
   "outputs": [
    {
     "name": "stdout",
     "output_type": "stream",
     "text": [
      "              Suburb           Address  Rooms   Type      Price Method  \\\n",
      "0         Abbotsford      85 Turner St      2  house  1480000.0      S   \n",
      "1         Abbotsford   25 Bloomburg St      2  house  1035000.0      S   \n",
      "2         Abbotsford      5 Charles St      3  house  1465000.0     SP   \n",
      "3         Abbotsford  40 Federation La      3  house   850000.0     PI   \n",
      "4         Abbotsford       55a Park St      4  house  1600000.0     VB   \n",
      "...              ...               ...    ...    ...        ...    ...   \n",
      "13575  Wheelers Hill      12 Strada Cr      4  house  1245000.0      S   \n",
      "13576   Williamstown     77 Merrett Dr      3  house  1031000.0     SP   \n",
      "13577   Williamstown       83 Power St      3  house  1170000.0      S   \n",
      "13578   Williamstown      96 Verdon St      4  house  2500000.0     PI   \n",
      "13579     Yarraville        6 Agnes St      4  house  1285000.0     SP   \n",
      "\n",
      "      PropertyAgent  Distance  Postcode  Bedroom2  Bathroom  Car  Landsize  \\\n",
      "0            Biggin       2.5    3067.0       2.0       1.0  1.0     202.0   \n",
      "1            Biggin       2.5    3067.0       2.0       1.0  0.0     156.0   \n",
      "2            Biggin       2.5    3067.0       3.0       2.0  0.0     134.0   \n",
      "3            Biggin       2.5    3067.0       3.0       2.0  1.0      94.0   \n",
      "4            Nelson       2.5    3067.0       3.0       1.0  2.0     120.0   \n",
      "...             ...       ...       ...       ...       ...  ...       ...   \n",
      "13575         Barry      16.7    3150.0       4.0       2.0  2.0     652.0   \n",
      "13576      Williams       6.8    3016.0       3.0       2.0  2.0     333.0   \n",
      "13577         Raine       6.8    3016.0       3.0       2.0  4.0     436.0   \n",
      "13578       Sweeney       6.8    3016.0       4.0       1.0  5.0     866.0   \n",
      "13579       Village       6.3    3013.0       4.0       1.0  1.0     362.0   \n",
      "\n",
      "       CouncilArea  Lattitude  Longtitude                  Regionname  \\\n",
      "0            Yarra  -37.79960   144.99840       Northern Metropolitan   \n",
      "1            Yarra  -37.80790   144.99340       Northern Metropolitan   \n",
      "2            Yarra  -37.80930   144.99440       Northern Metropolitan   \n",
      "3            Yarra  -37.79690   144.99690       Northern Metropolitan   \n",
      "4            Yarra  -37.80720   144.99410       Northern Metropolitan   \n",
      "...            ...        ...         ...                         ...   \n",
      "13575  Maribyrnong  -37.90562   145.16761  South-Eastern Metropolitan   \n",
      "13576  Maribyrnong  -37.85927   144.87904        Western Metropolitan   \n",
      "13577  Maribyrnong  -37.85274   144.88738        Western Metropolitan   \n",
      "13578  Maribyrnong  -37.85908   144.89299        Western Metropolitan   \n",
      "13579  Maribyrnong  -37.81188   144.88449        Western Metropolitan   \n",
      "\n",
      "       Propertycount FormattedDate    Year  \n",
      "0             4019.0    2016-03-12  2016.0  \n",
      "1             4019.0    2016-04-02  2016.0  \n",
      "2             4019.0    2017-04-03  2017.0  \n",
      "3             4019.0    2017-04-03  2017.0  \n",
      "4             4019.0    2016-04-06  2016.0  \n",
      "...              ...           ...     ...  \n",
      "13575         7392.0           NaT     NaN  \n",
      "13576         6380.0           NaT     NaN  \n",
      "13577         6380.0           NaT     NaN  \n",
      "13578         6380.0           NaT     NaN  \n",
      "13579         6543.0           NaT     NaN  \n",
      "\n",
      "[13580 rows x 20 columns]\n"
     ]
    }
   ],
   "source": [
    "print (melhousingclean_df)"
   ]
  },
  {
   "cell_type": "code",
   "execution_count": 190,
   "id": "75c9ac05-5bfe-44c0-8f2e-0b99ebba07d1",
   "metadata": {},
   "outputs": [
    {
     "data": {
      "text/plain": [
       "8442"
      ]
     },
     "execution_count": 190,
     "metadata": {},
     "output_type": "execute_result"
    }
   ],
   "source": [
    "nan_count = melhousingclean_df['Year'].isna().sum()\n",
    "nan_count"
   ]
  },
  {
   "cell_type": "code",
   "execution_count": 218,
   "id": "51b32d25-8c0c-4211-b4f0-3318f568b515",
   "metadata": {},
   "outputs": [
    {
     "ename": "KeyError",
     "evalue": "'Count'",
     "output_type": "error",
     "traceback": [
      "\u001b[0;31m---------------------------------------------------------------------------\u001b[0m",
      "\u001b[0;31mKeyError\u001b[0m                                  Traceback (most recent call last)",
      "File \u001b[0;32m/opt/anaconda3/lib/python3.12/site-packages/pandas/core/indexes/base.py:3805\u001b[0m, in \u001b[0;36mIndex.get_loc\u001b[0;34m(self, key)\u001b[0m\n\u001b[1;32m   3804\u001b[0m \u001b[38;5;28;01mtry\u001b[39;00m:\n\u001b[0;32m-> 3805\u001b[0m     \u001b[38;5;28;01mreturn\u001b[39;00m \u001b[38;5;28mself\u001b[39m\u001b[38;5;241m.\u001b[39m_engine\u001b[38;5;241m.\u001b[39mget_loc(casted_key)\n\u001b[1;32m   3806\u001b[0m \u001b[38;5;28;01mexcept\u001b[39;00m \u001b[38;5;167;01mKeyError\u001b[39;00m \u001b[38;5;28;01mas\u001b[39;00m err:\n",
      "File \u001b[0;32mindex.pyx:167\u001b[0m, in \u001b[0;36mpandas._libs.index.IndexEngine.get_loc\u001b[0;34m()\u001b[0m\n",
      "File \u001b[0;32mindex.pyx:196\u001b[0m, in \u001b[0;36mpandas._libs.index.IndexEngine.get_loc\u001b[0;34m()\u001b[0m\n",
      "File \u001b[0;32mpandas/_libs/hashtable_class_helper.pxi:7081\u001b[0m, in \u001b[0;36mpandas._libs.hashtable.PyObjectHashTable.get_item\u001b[0;34m()\u001b[0m\n",
      "File \u001b[0;32mpandas/_libs/hashtable_class_helper.pxi:7089\u001b[0m, in \u001b[0;36mpandas._libs.hashtable.PyObjectHashTable.get_item\u001b[0;34m()\u001b[0m\n",
      "\u001b[0;31mKeyError\u001b[0m: 'Count'",
      "\nThe above exception was the direct cause of the following exception:\n",
      "\u001b[0;31mKeyError\u001b[0m                                  Traceback (most recent call last)",
      "Cell \u001b[0;32mIn[218], line 6\u001b[0m\n\u001b[1;32m      4\u001b[0m \u001b[38;5;28;01mfor\u001b[39;00m i, property_type \u001b[38;5;129;01min\u001b[39;00m \u001b[38;5;28menumerate\u001b[39m(melhousingclean_df[\u001b[38;5;124m'\u001b[39m\u001b[38;5;124mType\u001b[39m\u001b[38;5;124m'\u001b[39m]\u001b[38;5;241m.\u001b[39munique()):\n\u001b[1;32m      5\u001b[0m     subset \u001b[38;5;241m=\u001b[39m melhousingclean_df[melhousingclean_df[\u001b[38;5;124m'\u001b[39m\u001b[38;5;124mType\u001b[39m\u001b[38;5;124m'\u001b[39m] \u001b[38;5;241m==\u001b[39m property_type]\n\u001b[0;32m----> 6\u001b[0m     plt\u001b[38;5;241m.\u001b[39mbar(subset[\u001b[38;5;124m'\u001b[39m\u001b[38;5;124mYear\u001b[39m\u001b[38;5;124m'\u001b[39m] \u001b[38;5;241m+\u001b[39m (i \u001b[38;5;241m*\u001b[39m \u001b[38;5;241m0.2\u001b[39m) \u001b[38;5;241m-\u001b[39m \u001b[38;5;241m0.2\u001b[39m, subset[\u001b[38;5;124m'\u001b[39m\u001b[38;5;124mCount\u001b[39m\u001b[38;5;124m'\u001b[39m], width\u001b[38;5;241m=\u001b[39m\u001b[38;5;241m0.2\u001b[39m, label\u001b[38;5;241m=\u001b[39mproperty_type)\n\u001b[1;32m      8\u001b[0m \u001b[38;5;66;03m# Adding labels and title\u001b[39;00m\n\u001b[1;32m      9\u001b[0m plt\u001b[38;5;241m.\u001b[39mxlabel(\u001b[38;5;124m'\u001b[39m\u001b[38;5;124mYear\u001b[39m\u001b[38;5;124m'\u001b[39m)\n",
      "File \u001b[0;32m/opt/anaconda3/lib/python3.12/site-packages/pandas/core/frame.py:4102\u001b[0m, in \u001b[0;36mDataFrame.__getitem__\u001b[0;34m(self, key)\u001b[0m\n\u001b[1;32m   4100\u001b[0m \u001b[38;5;28;01mif\u001b[39;00m \u001b[38;5;28mself\u001b[39m\u001b[38;5;241m.\u001b[39mcolumns\u001b[38;5;241m.\u001b[39mnlevels \u001b[38;5;241m>\u001b[39m \u001b[38;5;241m1\u001b[39m:\n\u001b[1;32m   4101\u001b[0m     \u001b[38;5;28;01mreturn\u001b[39;00m \u001b[38;5;28mself\u001b[39m\u001b[38;5;241m.\u001b[39m_getitem_multilevel(key)\n\u001b[0;32m-> 4102\u001b[0m indexer \u001b[38;5;241m=\u001b[39m \u001b[38;5;28mself\u001b[39m\u001b[38;5;241m.\u001b[39mcolumns\u001b[38;5;241m.\u001b[39mget_loc(key)\n\u001b[1;32m   4103\u001b[0m \u001b[38;5;28;01mif\u001b[39;00m is_integer(indexer):\n\u001b[1;32m   4104\u001b[0m     indexer \u001b[38;5;241m=\u001b[39m [indexer]\n",
      "File \u001b[0;32m/opt/anaconda3/lib/python3.12/site-packages/pandas/core/indexes/base.py:3812\u001b[0m, in \u001b[0;36mIndex.get_loc\u001b[0;34m(self, key)\u001b[0m\n\u001b[1;32m   3807\u001b[0m     \u001b[38;5;28;01mif\u001b[39;00m \u001b[38;5;28misinstance\u001b[39m(casted_key, \u001b[38;5;28mslice\u001b[39m) \u001b[38;5;129;01mor\u001b[39;00m (\n\u001b[1;32m   3808\u001b[0m         \u001b[38;5;28misinstance\u001b[39m(casted_key, abc\u001b[38;5;241m.\u001b[39mIterable)\n\u001b[1;32m   3809\u001b[0m         \u001b[38;5;129;01mand\u001b[39;00m \u001b[38;5;28many\u001b[39m(\u001b[38;5;28misinstance\u001b[39m(x, \u001b[38;5;28mslice\u001b[39m) \u001b[38;5;28;01mfor\u001b[39;00m x \u001b[38;5;129;01min\u001b[39;00m casted_key)\n\u001b[1;32m   3810\u001b[0m     ):\n\u001b[1;32m   3811\u001b[0m         \u001b[38;5;28;01mraise\u001b[39;00m InvalidIndexError(key)\n\u001b[0;32m-> 3812\u001b[0m     \u001b[38;5;28;01mraise\u001b[39;00m \u001b[38;5;167;01mKeyError\u001b[39;00m(key) \u001b[38;5;28;01mfrom\u001b[39;00m \u001b[38;5;21;01merr\u001b[39;00m\n\u001b[1;32m   3813\u001b[0m \u001b[38;5;28;01mexcept\u001b[39;00m \u001b[38;5;167;01mTypeError\u001b[39;00m:\n\u001b[1;32m   3814\u001b[0m     \u001b[38;5;66;03m# If we have a listlike key, _check_indexing_error will raise\u001b[39;00m\n\u001b[1;32m   3815\u001b[0m     \u001b[38;5;66;03m#  InvalidIndexError. Otherwise we fall through and re-raise\u001b[39;00m\n\u001b[1;32m   3816\u001b[0m     \u001b[38;5;66;03m#  the TypeError.\u001b[39;00m\n\u001b[1;32m   3817\u001b[0m     \u001b[38;5;28mself\u001b[39m\u001b[38;5;241m.\u001b[39m_check_indexing_error(key)\n",
      "\u001b[0;31mKeyError\u001b[0m: 'Count'"
     ]
    },
    {
     "data": {
      "text/plain": [
       "<Figure size 1000x600 with 0 Axes>"
      ]
     },
     "metadata": {},
     "output_type": "display_data"
    }
   ],
   "source": [
    "property_type_df = pd.DataFrame(house_sales_year)\n",
    "\n",
    "plt.figure(figsize=(10, 6))\n",
    "for i, property_type in enumerate(melhousingclean_df['Type'].unique()):\n",
    "    subset = melhousingclean_df[melhousingclean_df['Type'] == property_type]\n",
    "    plt.bar(subset['Year'] + (i * 0.2) - 0.2, subset['Count'], width=0.2, label=property_type)\n",
    "\n",
    "# Adding labels and title\n",
    "plt.xlabel('Year')\n",
    "plt.ylabel('Count')\n",
    "plt.title('Property Type Count by Year')\n",
    "plt.xticks([2016, 2017])\n",
    "plt.legend(title='Property Type')\n",
    "\n",
    "# Displaying the chart\n",
    "plt.tight_layout()\n",
    "plt.show()\n"
   ]
  },
  {
   "cell_type": "code",
   "execution_count": null,
   "id": "7ccb59ab-26c5-40ce-939c-52f55b0e7a7e",
   "metadata": {},
   "outputs": [],
   "source": [
    "#the things need to improve from this analysis are :\n",
    "#it was done 2016 and 2017, we need new data, for the next analysis, we can find some more newest and updated data.\n",
    "#there are a lot of rows that has NaN in analyzing property count by year that makes this analysis bias."
   ]
  },
  {
   "cell_type": "code",
   "execution_count": 202,
   "id": "e2121f3c-e9f1-4131-936c-8d423b238e45",
   "metadata": {},
   "outputs": [
    {
     "name": "stdout",
     "output_type": "stream",
     "text": [
      "      Type  Distance  Count\n",
      "0    house       1.6      6\n",
      "1    house       1.8      7\n",
      "2    house       1.9      8\n",
      "3    house       2.0      2\n",
      "4    house       2.1      9\n",
      "..     ...       ...    ...\n",
      "383   unit      24.7      3\n",
      "384   unit      25.5      1\n",
      "385   unit      27.0      1\n",
      "386   unit      31.2      2\n",
      "387   unit      35.4      1\n",
      "\n",
      "[388 rows x 3 columns]\n"
     ]
    }
   ],
   "source": [
    "# Assuming your DataFrame is named 'melhousingclean_df' and the 'Date' column is properly formatted.\n",
    "\n",
    "# Step 1: Filter for the year 2017\n",
    "melhousingclean_df['Year'] = pd.to_datetime(melhousingclean_df['FormattedDate']).dt.year\n",
    "df_2017 = melhousingclean_df[melhousingclean_df['Year'] == 2017]\n",
    "\n",
    "# Step 2: Group by 'Type' and 'Distance' and count the number of sales\n",
    "sales_by_type_distance = df_2017.groupby(['Type', 'Distance']).size().reset_index(name='Count')\n",
    "\n",
    "# Display the result\n",
    "print(sales_by_type_distance)\n"
   ]
  },
  {
   "cell_type": "code",
   "execution_count": 208,
   "id": "d9af49da-165c-4b14-8280-89cf81a8a27c",
   "metadata": {},
   "outputs": [
    {
     "ename": "KeyError",
     "evalue": "'Count'",
     "output_type": "error",
     "traceback": [
      "\u001b[0;31m---------------------------------------------------------------------------\u001b[0m",
      "\u001b[0;31mKeyError\u001b[0m                                  Traceback (most recent call last)",
      "File \u001b[0;32m/opt/anaconda3/lib/python3.12/site-packages/pandas/core/indexes/base.py:3805\u001b[0m, in \u001b[0;36mIndex.get_loc\u001b[0;34m(self, key)\u001b[0m\n\u001b[1;32m   3804\u001b[0m \u001b[38;5;28;01mtry\u001b[39;00m:\n\u001b[0;32m-> 3805\u001b[0m     \u001b[38;5;28;01mreturn\u001b[39;00m \u001b[38;5;28mself\u001b[39m\u001b[38;5;241m.\u001b[39m_engine\u001b[38;5;241m.\u001b[39mget_loc(casted_key)\n\u001b[1;32m   3806\u001b[0m \u001b[38;5;28;01mexcept\u001b[39;00m \u001b[38;5;167;01mKeyError\u001b[39;00m \u001b[38;5;28;01mas\u001b[39;00m err:\n",
      "File \u001b[0;32mindex.pyx:167\u001b[0m, in \u001b[0;36mpandas._libs.index.IndexEngine.get_loc\u001b[0;34m()\u001b[0m\n",
      "File \u001b[0;32mindex.pyx:196\u001b[0m, in \u001b[0;36mpandas._libs.index.IndexEngine.get_loc\u001b[0;34m()\u001b[0m\n",
      "File \u001b[0;32mpandas/_libs/hashtable_class_helper.pxi:7081\u001b[0m, in \u001b[0;36mpandas._libs.hashtable.PyObjectHashTable.get_item\u001b[0;34m()\u001b[0m\n",
      "File \u001b[0;32mpandas/_libs/hashtable_class_helper.pxi:7089\u001b[0m, in \u001b[0;36mpandas._libs.hashtable.PyObjectHashTable.get_item\u001b[0;34m()\u001b[0m\n",
      "\u001b[0;31mKeyError\u001b[0m: 'Count'",
      "\nThe above exception was the direct cause of the following exception:\n",
      "\u001b[0;31mKeyError\u001b[0m                                  Traceback (most recent call last)",
      "Cell \u001b[0;32mIn[208], line 16\u001b[0m\n\u001b[1;32m     14\u001b[0m \u001b[38;5;28;01mfor\u001b[39;00m i, property_type \u001b[38;5;129;01min\u001b[39;00m \u001b[38;5;28menumerate\u001b[39m(property_types):\n\u001b[1;32m     15\u001b[0m     subset \u001b[38;5;241m=\u001b[39m melhousingclean_df[melhousingclean_df[\u001b[38;5;124m'\u001b[39m\u001b[38;5;124mType\u001b[39m\u001b[38;5;124m'\u001b[39m] \u001b[38;5;241m==\u001b[39m property_type]\n\u001b[0;32m---> 16\u001b[0m     plt\u001b[38;5;241m.\u001b[39mbar([p \u001b[38;5;241m+\u001b[39m i \u001b[38;5;241m*\u001b[39m bar_width \u001b[38;5;28;01mfor\u001b[39;00m p \u001b[38;5;129;01min\u001b[39;00m positions], subset[\u001b[38;5;124m'\u001b[39m\u001b[38;5;124mCount\u001b[39m\u001b[38;5;124m'\u001b[39m], width\u001b[38;5;241m=\u001b[39mbar_width, label\u001b[38;5;241m=\u001b[39mproperty_type)\n\u001b[1;32m     18\u001b[0m \u001b[38;5;66;03m# Adding labels and title\u001b[39;00m\n\u001b[1;32m     19\u001b[0m plt\u001b[38;5;241m.\u001b[39mxlabel(\u001b[38;5;124m'\u001b[39m\u001b[38;5;124mDistance\u001b[39m\u001b[38;5;124m'\u001b[39m)\n",
      "File \u001b[0;32m/opt/anaconda3/lib/python3.12/site-packages/pandas/core/frame.py:4102\u001b[0m, in \u001b[0;36mDataFrame.__getitem__\u001b[0;34m(self, key)\u001b[0m\n\u001b[1;32m   4100\u001b[0m \u001b[38;5;28;01mif\u001b[39;00m \u001b[38;5;28mself\u001b[39m\u001b[38;5;241m.\u001b[39mcolumns\u001b[38;5;241m.\u001b[39mnlevels \u001b[38;5;241m>\u001b[39m \u001b[38;5;241m1\u001b[39m:\n\u001b[1;32m   4101\u001b[0m     \u001b[38;5;28;01mreturn\u001b[39;00m \u001b[38;5;28mself\u001b[39m\u001b[38;5;241m.\u001b[39m_getitem_multilevel(key)\n\u001b[0;32m-> 4102\u001b[0m indexer \u001b[38;5;241m=\u001b[39m \u001b[38;5;28mself\u001b[39m\u001b[38;5;241m.\u001b[39mcolumns\u001b[38;5;241m.\u001b[39mget_loc(key)\n\u001b[1;32m   4103\u001b[0m \u001b[38;5;28;01mif\u001b[39;00m is_integer(indexer):\n\u001b[1;32m   4104\u001b[0m     indexer \u001b[38;5;241m=\u001b[39m [indexer]\n",
      "File \u001b[0;32m/opt/anaconda3/lib/python3.12/site-packages/pandas/core/indexes/base.py:3812\u001b[0m, in \u001b[0;36mIndex.get_loc\u001b[0;34m(self, key)\u001b[0m\n\u001b[1;32m   3807\u001b[0m     \u001b[38;5;28;01mif\u001b[39;00m \u001b[38;5;28misinstance\u001b[39m(casted_key, \u001b[38;5;28mslice\u001b[39m) \u001b[38;5;129;01mor\u001b[39;00m (\n\u001b[1;32m   3808\u001b[0m         \u001b[38;5;28misinstance\u001b[39m(casted_key, abc\u001b[38;5;241m.\u001b[39mIterable)\n\u001b[1;32m   3809\u001b[0m         \u001b[38;5;129;01mand\u001b[39;00m \u001b[38;5;28many\u001b[39m(\u001b[38;5;28misinstance\u001b[39m(x, \u001b[38;5;28mslice\u001b[39m) \u001b[38;5;28;01mfor\u001b[39;00m x \u001b[38;5;129;01min\u001b[39;00m casted_key)\n\u001b[1;32m   3810\u001b[0m     ):\n\u001b[1;32m   3811\u001b[0m         \u001b[38;5;28;01mraise\u001b[39;00m InvalidIndexError(key)\n\u001b[0;32m-> 3812\u001b[0m     \u001b[38;5;28;01mraise\u001b[39;00m \u001b[38;5;167;01mKeyError\u001b[39;00m(key) \u001b[38;5;28;01mfrom\u001b[39;00m \u001b[38;5;21;01merr\u001b[39;00m\n\u001b[1;32m   3813\u001b[0m \u001b[38;5;28;01mexcept\u001b[39;00m \u001b[38;5;167;01mTypeError\u001b[39;00m:\n\u001b[1;32m   3814\u001b[0m     \u001b[38;5;66;03m# If we have a listlike key, _check_indexing_error will raise\u001b[39;00m\n\u001b[1;32m   3815\u001b[0m     \u001b[38;5;66;03m#  InvalidIndexError. Otherwise we fall through and re-raise\u001b[39;00m\n\u001b[1;32m   3816\u001b[0m     \u001b[38;5;66;03m#  the TypeError.\u001b[39;00m\n\u001b[1;32m   3817\u001b[0m     \u001b[38;5;28mself\u001b[39m\u001b[38;5;241m.\u001b[39m_check_indexing_error(key)\n",
      "\u001b[0;31mKeyError\u001b[0m: 'Count'"
     ]
    },
    {
     "data": {
      "text/plain": [
       "<Figure size 1000x600 with 0 Axes>"
      ]
     },
     "metadata": {},
     "output_type": "display_data"
    }
   ],
   "source": [
    "\n",
    "\n",
    "\n",
    "# Plotting the grouped bar chart\n",
    "plt.figure(figsize=(10, 6))\n",
    "\n",
    "property_types = sales_by_type_distance['Type'].unique()\n",
    "distance_values = sales_by_type_distance['Distance'].unique()\n",
    "\n",
    "# Setting the positions for bars\n",
    "bar_width = 0.2\n",
    "positions = list(range(len(distance_values)))\n",
    "\n",
    "for i, property_type in enumerate(property_types):\n",
    "    subset = melhousingclean_df[melhousingclean_df['Type'] == property_type]\n",
    "    plt.bar([p + i * bar_width for p in positions], subset['Count'], width=bar_width, label=property_type)\n",
    "\n",
    "# Adding labels and title\n",
    "plt.xlabel('Distance')\n",
    "plt.ylabel('Number of Sales')\n",
    "plt.title('Property Sales by Type and Distance (2017)')\n",
    "plt.xticks([p + bar_width for p in positions], distance_values)\n",
    "plt.legend(title='Property Type')\n",
    "\n",
    "# Displaying the chart\n",
    "plt.tight_layout()\n",
    "plt.show()\n"
   ]
  },
  {
   "cell_type": "code",
   "execution_count": null,
   "id": "0aca6e0f-d659-4bb9-88e3-a4029d6df14f",
   "metadata": {},
   "outputs": [],
   "source": []
  },
  {
   "cell_type": "code",
   "execution_count": null,
   "id": "7ce61f52-73a3-42ed-a2a8-de406bc8e9c5",
   "metadata": {},
   "outputs": [],
   "source": []
  }
 ],
 "metadata": {
  "kernelspec": {
   "display_name": "Python 3 (ipykernel)",
   "language": "python",
   "name": "python3"
  },
  "language_info": {
   "codemirror_mode": {
    "name": "ipython",
    "version": 3
   },
   "file_extension": ".py",
   "mimetype": "text/x-python",
   "name": "python",
   "nbconvert_exporter": "python",
   "pygments_lexer": "ipython3",
   "version": "3.12.4"
  }
 },
 "nbformat": 4,
 "nbformat_minor": 5
}
