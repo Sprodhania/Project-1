{
 "cells": [
  {
   "cell_type": "code",
   "execution_count": 1,
   "id": "52d4eba8-74f2-453f-80a4-2aa15ddf4eaa",
   "metadata": {},
   "outputs": [
    {
     "name": "stdout",
     "output_type": "stream",
     "text": [
      "Requirement already satisfied: opendatasets in /opt/anaconda3/lib/python3.12/site-packages (0.1.22)\n",
      "Requirement already satisfied: tqdm in /opt/anaconda3/lib/python3.12/site-packages (from opendatasets) (4.66.4)\n",
      "Requirement already satisfied: kaggle in /opt/anaconda3/lib/python3.12/site-packages (from opendatasets) (1.6.17)\n",
      "Requirement already satisfied: click in /opt/anaconda3/lib/python3.12/site-packages (from opendatasets) (8.1.7)\n",
      "Requirement already satisfied: six>=1.10 in /opt/anaconda3/lib/python3.12/site-packages (from kaggle->opendatasets) (1.16.0)\n",
      "Requirement already satisfied: certifi>=2023.7.22 in /opt/anaconda3/lib/python3.12/site-packages (from kaggle->opendatasets) (2024.8.30)\n",
      "Requirement already satisfied: python-dateutil in /opt/anaconda3/lib/python3.12/site-packages (from kaggle->opendatasets) (2.9.0.post0)\n",
      "Requirement already satisfied: requests in /opt/anaconda3/lib/python3.12/site-packages (from kaggle->opendatasets) (2.32.2)\n",
      "Requirement already satisfied: python-slugify in /opt/anaconda3/lib/python3.12/site-packages (from kaggle->opendatasets) (5.0.2)\n",
      "Requirement already satisfied: urllib3 in /opt/anaconda3/lib/python3.12/site-packages (from kaggle->opendatasets) (2.2.2)\n",
      "Requirement already satisfied: bleach in /opt/anaconda3/lib/python3.12/site-packages (from kaggle->opendatasets) (4.1.0)\n",
      "Requirement already satisfied: packaging in /opt/anaconda3/lib/python3.12/site-packages (from bleach->kaggle->opendatasets) (23.2)\n",
      "Requirement already satisfied: webencodings in /opt/anaconda3/lib/python3.12/site-packages (from bleach->kaggle->opendatasets) (0.5.1)\n",
      "Requirement already satisfied: text-unidecode>=1.3 in /opt/anaconda3/lib/python3.12/site-packages (from python-slugify->kaggle->opendatasets) (1.3)\n",
      "Requirement already satisfied: charset-normalizer<4,>=2 in /opt/anaconda3/lib/python3.12/site-packages (from requests->kaggle->opendatasets) (2.0.4)\n",
      "Requirement already satisfied: idna<4,>=2.5 in /opt/anaconda3/lib/python3.12/site-packages (from requests->kaggle->opendatasets) (3.7)\n",
      "Note: you may need to restart the kernel to use updated packages.\n"
     ]
    }
   ],
   "source": [
    "pip install opendatasets --upgrade"
   ]
  },
  {
   "cell_type": "code",
   "execution_count": 3,
   "id": "01060963-f1b8-4f58-b4bb-b0ac6bb9a549",
   "metadata": {},
   "outputs": [],
   "source": [
    "import opendatasets as od"
   ]
  },
  {
   "cell_type": "code",
   "execution_count": 7,
   "id": "0fe9b4ce-f90f-4e1f-85ae-2ed206f9e4c1",
   "metadata": {},
   "outputs": [],
   "source": [
    "dataset = 'https://www.kaggle.com/datasets/dansbecker/melbourne-housing-snapshot'"
   ]
  },
  {
   "cell_type": "code",
   "execution_count": 9,
   "id": "5a0ef7e3-de32-41b1-b7b8-2892dbaf44e6",
   "metadata": {},
   "outputs": [
    {
     "name": "stdout",
     "output_type": "stream",
     "text": [
      "Please provide your Kaggle credentials to download this dataset. Learn more: http://bit.ly/kaggle-creds\n",
      "Your Kaggle username:"
     ]
    },
    {
     "name": "stdin",
     "output_type": "stream",
     "text": [
      "  gitanatalia\n"
     ]
    },
    {
     "name": "stdout",
     "output_type": "stream",
     "text": [
      "Your Kaggle Key:"
     ]
    },
    {
     "name": "stdin",
     "output_type": "stream",
     "text": [
      "  ········\n"
     ]
    },
    {
     "name": "stdout",
     "output_type": "stream",
     "text": [
      "Dataset URL: https://www.kaggle.com/datasets/dansbecker/melbourne-housing-snapshot\n",
      "Downloading melbourne-housing-snapshot.zip to ./melbourne-housing-snapshot\n"
     ]
    },
    {
     "name": "stderr",
     "output_type": "stream",
     "text": [
      "100%|████████████████████████████████████████| 451k/451k [00:00<00:00, 1.75MB/s]"
     ]
    },
    {
     "name": "stdout",
     "output_type": "stream",
     "text": [
      "\n"
     ]
    },
    {
     "name": "stderr",
     "output_type": "stream",
     "text": [
      "\n"
     ]
    }
   ],
   "source": [
    "od.download(dataset)"
   ]
  },
  {
   "cell_type": "code",
   "execution_count": 11,
   "id": "2aa7bba4-7fcb-41d0-b6dd-c38ae2c5667b",
   "metadata": {},
   "outputs": [],
   "source": [
    "import os\n"
   ]
  },
  {
   "cell_type": "code",
   "execution_count": 13,
   "id": "080cd63a-35cf-48e7-9333-c15b6719562d",
   "metadata": {},
   "outputs": [],
   "source": [
    "data_dir = \"./melbourne-housing-snapshot\""
   ]
  },
  {
   "cell_type": "code",
   "execution_count": 15,
   "id": "c2905ffc-e70d-45fb-ab79-ba8e177a9dd6",
   "metadata": {},
   "outputs": [
    {
     "data": {
      "text/plain": [
       "['melb_data.csv']"
      ]
     },
     "execution_count": 15,
     "metadata": {},
     "output_type": "execute_result"
    }
   ],
   "source": [
    "os.listdir(data_dir)"
   ]
  },
  {
   "cell_type": "code",
   "execution_count": 17,
   "id": "22249661-716e-4b5a-b780-bfc0aff8709f",
   "metadata": {},
   "outputs": [],
   "source": [
    "import pandas as pd"
   ]
  },
  {
   "cell_type": "code",
   "execution_count": 23,
   "id": "bc99aa61-ca5d-4365-b704-dbeacaaa3967",
   "metadata": {},
   "outputs": [
    {
     "name": "stdout",
     "output_type": "stream",
     "text": [
      "              Suburb           Address  Rooms Type      Price Method  \\\n",
      "0         Abbotsford      85 Turner St      2    h  1480000.0      S   \n",
      "1         Abbotsford   25 Bloomburg St      2    h  1035000.0      S   \n",
      "2         Abbotsford      5 Charles St      3    h  1465000.0     SP   \n",
      "3         Abbotsford  40 Federation La      3    h   850000.0     PI   \n",
      "4         Abbotsford       55a Park St      4    h  1600000.0     VB   \n",
      "...              ...               ...    ...  ...        ...    ...   \n",
      "13575  Wheelers Hill      12 Strada Cr      4    h  1245000.0      S   \n",
      "13576   Williamstown     77 Merrett Dr      3    h  1031000.0     SP   \n",
      "13577   Williamstown       83 Power St      3    h  1170000.0      S   \n",
      "13578   Williamstown      96 Verdon St      4    h  2500000.0     PI   \n",
      "13579     Yarraville        6 Agnes St      4    h  1285000.0     SP   \n",
      "\n",
      "        SellerG        Date  Distance  Postcode  ...  Bathroom  Car  Landsize  \\\n",
      "0        Biggin   3/12/2016       2.5    3067.0  ...       1.0  1.0     202.0   \n",
      "1        Biggin   4/02/2016       2.5    3067.0  ...       1.0  0.0     156.0   \n",
      "2        Biggin   4/03/2017       2.5    3067.0  ...       2.0  0.0     134.0   \n",
      "3        Biggin   4/03/2017       2.5    3067.0  ...       2.0  1.0      94.0   \n",
      "4        Nelson   4/06/2016       2.5    3067.0  ...       1.0  2.0     120.0   \n",
      "...         ...         ...       ...       ...  ...       ...  ...       ...   \n",
      "13575     Barry  26/08/2017      16.7    3150.0  ...       2.0  2.0     652.0   \n",
      "13576  Williams  26/08/2017       6.8    3016.0  ...       2.0  2.0     333.0   \n",
      "13577     Raine  26/08/2017       6.8    3016.0  ...       2.0  4.0     436.0   \n",
      "13578   Sweeney  26/08/2017       6.8    3016.0  ...       1.0  5.0     866.0   \n",
      "13579   Village  26/08/2017       6.3    3013.0  ...       1.0  1.0     362.0   \n",
      "\n",
      "       BuildingArea  YearBuilt  CouncilArea Lattitude  Longtitude  \\\n",
      "0               NaN        NaN        Yarra -37.79960   144.99840   \n",
      "1              79.0     1900.0        Yarra -37.80790   144.99340   \n",
      "2             150.0     1900.0        Yarra -37.80930   144.99440   \n",
      "3               NaN        NaN        Yarra -37.79690   144.99690   \n",
      "4             142.0     2014.0        Yarra -37.80720   144.99410   \n",
      "...             ...        ...          ...       ...         ...   \n",
      "13575           NaN     1981.0          NaN -37.90562   145.16761   \n",
      "13576         133.0     1995.0          NaN -37.85927   144.87904   \n",
      "13577           NaN     1997.0          NaN -37.85274   144.88738   \n",
      "13578         157.0     1920.0          NaN -37.85908   144.89299   \n",
      "13579         112.0     1920.0          NaN -37.81188   144.88449   \n",
      "\n",
      "                       Regionname Propertycount  \n",
      "0           Northern Metropolitan        4019.0  \n",
      "1           Northern Metropolitan        4019.0  \n",
      "2           Northern Metropolitan        4019.0  \n",
      "3           Northern Metropolitan        4019.0  \n",
      "4           Northern Metropolitan        4019.0  \n",
      "...                           ...           ...  \n",
      "13575  South-Eastern Metropolitan        7392.0  \n",
      "13576        Western Metropolitan        6380.0  \n",
      "13577        Western Metropolitan        6380.0  \n",
      "13578        Western Metropolitan        6380.0  \n",
      "13579        Western Metropolitan        6543.0  \n",
      "\n",
      "[13580 rows x 21 columns]\n"
     ]
    }
   ],
   "source": [
    "melb_data = pd.read_csv('melb_data.csv')\n",
    "print(melb_data)"
   ]
  },
  {
   "cell_type": "code",
   "execution_count": null,
   "id": "b8ba3943-ab73-4060-95aa-d66f29d155d1",
   "metadata": {},
   "outputs": [],
   "source": []
  }
 ],
 "metadata": {
  "kernelspec": {
   "display_name": "Python 3 (ipykernel)",
   "language": "python",
   "name": "python3"
  },
  "language_info": {
   "codemirror_mode": {
    "name": "ipython",
    "version": 3
   },
   "file_extension": ".py",
   "mimetype": "text/x-python",
   "name": "python",
   "nbconvert_exporter": "python",
   "pygments_lexer": "ipython3",
   "version": "3.12.4"
  }
 },
 "nbformat": 4,
 "nbformat_minor": 5
}
