{
 "cells": [
  {
   "cell_type": "code",
   "execution_count": null,
   "id": "af0c765c-e957-409e-9ccf-663a251b26de",
   "metadata": {},
   "outputs": [],
   "source": []
  },
  {
   "cell_type": "code",
   "execution_count": null,
   "id": "d1b037f7-6c0c-4605-b7d7-f99e15285e95",
   "metadata": {},
   "outputs": [],
   "source": []
  },
  {
   "cell_type": "code",
   "execution_count": null,
   "id": "bd28eb93-d67a-4390-b7cb-8a2d57974acf",
   "metadata": {},
   "outputs": [],
   "source": [
    "https://www.kaggle.com/datasets/dansbecker/melbourne-housing-snapshot"
   ]
  }
 ],
 "metadata": {
  "kernelspec": {
   "display_name": "Python 3 (ipykernel)",
   "language": "python",
   "name": "python3"
  },
  "language_info": {
   "codemirror_mode": {
    "name": "ipython",
    "version": 3
   },
   "file_extension": ".py",
   "mimetype": "text/x-python",
   "name": "python",
   "nbconvert_exporter": "python",
   "pygments_lexer": "ipython3",
   "version": "3.12.3"
  }
 },
 "nbformat": 4,
 "nbformat_minor": 5
}
